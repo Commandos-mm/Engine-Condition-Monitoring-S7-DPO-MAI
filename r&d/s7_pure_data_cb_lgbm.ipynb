{
  "cells": [
    {
      "cell_type": "code",
      "execution_count": null,
      "id": "32a6f9d9",
      "metadata": {
        "id": "32a6f9d9"
      },
      "outputs": [],
      "source": [
        "# !pip install numpy\n",
        "# !pip install pandas\n",
        "# !pip install tqdm\n",
        "!pip install scikit-learn\n",
        "!pip install catboost"
      ]
    },
    {
      "cell_type": "code",
      "execution_count": 30,
      "id": "f8cd8067",
      "metadata": {
        "id": "f8cd8067"
      },
      "outputs": [],
      "source": [
        "import pandas as pd\n",
        "import numpy as np\n",
        "from tqdm import tqdm\n",
        "\n",
        "from sklearn.model_selection import train_test_split\n",
        "from sklearn.metrics import mean_squared_error, mean_absolute_error, mean_squared_error\n",
        "from catboost import CatBoostRegressor\n",
        "from lightgbm import LGBMRegressor\n",
        "\n",
        "pd.set_option('display.max_columns', 200)"
      ]
    },
    {
      "cell_type": "code",
      "source": [
        "from google.colab import drive\n",
        "drive.mount('/content/drive')"
      ],
      "metadata": {
        "id": "HiX8UfsCG0LA"
      },
      "id": "HiX8UfsCG0LA",
      "execution_count": null,
      "outputs": []
    },
    {
      "cell_type": "code",
      "source": [
        "X = pd.read_csv(\"/content/drive/MyDrive/S7/X.csv\")\n",
        "y = pd.read_csv(\"/content/drive/MyDrive/S7/y.csv\")\n",
        "X['ZTAMB'] = 40 / 21 * (X['ZTAMB'] - 7.5)"
      ],
      "metadata": {
        "id": "effDtJ_CG7aG"
      },
      "id": "effDtJ_CG7aG",
      "execution_count": 4,
      "outputs": []
    },
    {
      "cell_type": "code",
      "source": [
        "#function for counting nan values in cols\n",
        "def count_nan_cols(X : pd.DataFrame):\n",
        "  count = 0\n",
        "  for i in X.columns:\n",
        "    for j in X[i]:\n",
        "      if pd.isna(j):\n",
        "        count+=1\n",
        "    print(i, ':', count)\n",
        "    count = 0"
      ],
      "metadata": {
        "id": "LNlzdc--KWoT"
      },
      "id": "LNlzdc--KWoT",
      "execution_count": 5,
      "outputs": []
    },
    {
      "cell_type": "code",
      "execution_count": 78,
      "id": "695d743b",
      "metadata": {
        "id": "695d743b"
      },
      "outputs": [],
      "source": [
        "merged = X.merge(y)\n",
        "Mt5b = merged[merged['flight_phase'] == 'TAKEOFF']\n",
        "Mt5b = Mt5b[Mt5b['engine_family'] == 'CFM56-5B']\n",
        "\n",
        "Mc5b = merged[merged['flight_phase'] == 'CRUISE']\n",
        "Mc5b = Mc5b[Mc5b['engine_family'] == 'CFM56-5B']\n",
        "\n",
        "Mt8e = merged[merged['flight_phase'] == 'TAKEOFF']\n",
        "Mt8e = Mt8e[Mt8e['engine_family'] == 'CF34-8E']\n",
        "\n",
        "Mc8e = merged[merged['flight_phase'] == 'CRUISE']\n",
        "Mc8e = Mc8e[Mc8e['engine_family'] == 'CF34-8E']\n",
        "\n",
        "Mt7 = merged[merged['flight_phase'] == 'TAKEOFF']\n",
        "Mt7 = Mt7[Mt7['engine_family'] == 'CFM56-7']\n",
        "\n",
        "Mc7 = merged[merged['flight_phase'] == 'CRUISE']\n",
        "Mc7 = Mc7[Mc7['engine_family'] == 'CFM56-7']\n"
      ]
    },
    {
      "cell_type": "code",
      "source": [
        "Mnames = ['Mt5b', 'Mc5b', 'Mt8e', 'Mc8e', 'Mt7', 'Mc7' ]"
      ],
      "metadata": {
        "id": "Tt2EueM1y-jg"
      },
      "id": "Tt2EueM1y-jg",
      "execution_count": 79,
      "outputs": []
    },
    {
      "cell_type": "code",
      "source": [
        "for i in range(6):\n",
        "  exec(f\"{Mnames[i]}.dropna(axis='columns', thresh=20, inplace=True)\")\n",
        "  exec(f\"{Mnames[i]}.dropna(inplace=True)\")"
      ],
      "metadata": {
        "id": "D74sJKrNyxtk"
      },
      "id": "D74sJKrNyxtk",
      "execution_count": 80,
      "outputs": []
    },
    {
      "cell_type": "code",
      "source": [
        "col = [0, 2, 3]\n",
        "\n",
        "Xt5b = Mt5b.iloc[:, :-15]\n",
        "yt5b = Mt5b.iloc[:, col + [i for i in range(34, 49)]]\n",
        "\n",
        "Xc5b = Mc5b.iloc[:,:-24]\n",
        "yc5b = Mc5b.iloc[:,col + [i for i in range(39, 62)]]\n",
        "\n",
        "Xt8e = Mt8e.iloc[:,:-10]\n",
        "yt8e = Mt8e.iloc[:,col + [i for i in range(40, 50)]]\n",
        "\n",
        "Xc8e = Mc8e.iloc[:,:-15]\n",
        "yc8e = Mc8e.iloc[:,col + [i for i in range(39, 54)]]\n",
        "\n",
        "Xt7 = Mt7.iloc[:,:-14]\n",
        "yt7 = Mt7.iloc[:,col + [i for i in range(32, 46)]]\n",
        "\n",
        "Xc7 = Mc7.iloc[:,:-19]\n",
        "yc7 = Mc7.iloc[:, col + [i for i in range(29, 48)]]"
      ],
      "metadata": {
        "id": "KD7wqUUs1Xap"
      },
      "id": "KD7wqUUs1Xap",
      "execution_count": 81,
      "outputs": []
    },
    {
      "cell_type": "code",
      "source": [
        "Xnames = ['Xt5b', 'Xc5b', 'Xt8e', 'Xc8e', 'Xt7', 'Xc7' ]\n",
        "ynames = ['yt5b', 'yc5b', 'yt8e', 'yc8e', 'yt7', 'yc7' ]"
      ],
      "metadata": {
        "id": "QoZhD8RT0IZx"
      },
      "id": "QoZhD8RT0IZx",
      "execution_count": 82,
      "outputs": []
    },
    {
      "cell_type": "code",
      "execution_count": 83,
      "id": "a971e7ca",
      "metadata": {
        "id": "a971e7ca"
      },
      "outputs": [],
      "source": [
        "def cb_score(predict_field, XX, yy):\n",
        "    df = pd.merge(XX, yy, on=[\"engine_id\", \"flight_datetime\", \"flight_phase\"])\n",
        "    df = df[df[predict_field].notna()]\n",
        "    #df = df.fillna(-100)\n",
        "    X = df.drop(columns=[predict_field])\n",
        "    X = X.drop(columns=[\n",
        "        \"engine_id\", \"aircraft_id\", \"flight_datetime\",\n",
        "        \"flight_phase\", \"engine_family\", \"engine_type\", \"manufacturer\",\n",
        "        \"aircraft_family\", \"aircraft_type\", \"aircraft_grp\", \"ac_manufacturer\"])\n",
        "    y = df[predict_field]\n",
        "    \n",
        "    X_train, X_test, y_train, y_test = train_test_split(X, y, test_size=0.25, random_state=42)\n",
        "    \n",
        "    model = CatBoostRegressor(iterations=500, verbose=False)\n",
        "    model.fit(X_train, y_train)\n",
        "    catboost_predicted = model.predict(X_test)\n",
        "    catboost_score = mean_squared_error(y_test, catboost_predicted, squared=False)\n",
        "    catboost_predicted = model.predict(X)\n",
        "    return catboost_score"
      ]
    },
    {
      "cell_type": "code",
      "execution_count": 84,
      "id": "fd0657fe",
      "metadata": {
        "colab": {
          "base_uri": "https://localhost:8080/"
        },
        "id": "fd0657fe",
        "outputId": "61b48bfa-abe2-4630-c49d-dbc634540117"
      },
      "outputs": [
        {
          "output_type": "stream",
          "name": "stdout",
          "text": [
            "Dataset :  Xt5b\n"
          ]
        },
        {
          "output_type": "stream",
          "name": "stderr",
          "text": [
            "100%|██████████| 15/15 [00:50<00:00,  3.38s/it]\n"
          ]
        },
        {
          "output_type": "stream",
          "name": "stdout",
          "text": [
            "   parameter      rmse\n",
            "0       BRAT  0.010445\n",
            "1      DELFN  0.215623\n",
            "2      DELN1  0.094042\n",
            "3     EGTHDM  2.550564\n",
            "4   EGTHDM_D  0.209373\n",
            "5      PCN12  0.167429\n",
            "6     PCN12I  0.168264\n",
            "7     PCN1AR  0.166453\n",
            "8     PCN1BR  0.161637\n",
            "9      PCN1K  0.189601\n",
            "10    SLOATL  0.933299\n",
            "11  SLOATL_D  0.059752\n",
            "12       WBE  0.013611\n",
            "13  ZPCN25_D  0.083510\n",
            "14    ZT49_D  0.765873\n",
            "Dataset :  Xc5b\n"
          ]
        },
        {
          "output_type": "stream",
          "name": "stderr",
          "text": [
            "100%|██████████| 23/23 [02:26<00:00,  6.37s/it]\n"
          ]
        },
        {
          "output_type": "stream",
          "name": "stdout",
          "text": [
            "   parameter      rmse\n",
            "0       BRAT  0.001935\n",
            "1       DEGT  0.565583\n",
            "2     DELVSV  0.012281\n",
            "3      DPOIL  0.049766\n",
            "4       EGTC  0.707202\n",
            "5     EGTHDM  0.622020\n",
            "6     GEGTMC  0.530380\n",
            "7      GN2MC  0.016930\n",
            "8     GPCN25  0.014673\n",
            "9       GWFM  0.364877\n",
            "10     PCN12  0.051987\n",
            "11    PCN12I  0.051987\n",
            "12     PCN1K  0.099796\n",
            "13     PCN2C  0.031353\n",
            "14    SLOATL  0.214646\n",
            "15       WBE  0.003874\n",
            "16       WBI  0.002549\n",
            "17      WFMP  7.749193\n",
            "18  ZPCN25_D  0.036888\n",
            "19    ZT49_D  1.209436\n",
            "20   ZTNAC_D  1.992801\n",
            "21   ZWF36_D  6.286841\n",
            "Dataset :  Xt8e\n"
          ]
        },
        {
          "output_type": "stream",
          "name": "stderr",
          "text": [
            "100%|██████████| 10/10 [01:01<00:00,  6.17s/it]\n"
          ]
        },
        {
          "output_type": "stream",
          "name": "stdout",
          "text": [
            "  parameter       rmse\n",
            "0      BRAT   0.009148\n",
            "1    EGTHDM   0.356304\n",
            "2  EGTHDM_D   0.243982\n",
            "3     PCN12   0.053027\n",
            "4     PCN1K   0.043683\n",
            "5    SLOATL   0.102539\n",
            "6  SLOATL_D   0.068931\n",
            "7  ZPCN25_D   0.049735\n",
            "8    ZT49_D   0.454237\n",
            "9   ZWF36_D  19.404562\n",
            "Dataset :  Xc8e\n"
          ]
        },
        {
          "output_type": "stream",
          "name": "stderr",
          "text": [
            "100%|██████████| 15/15 [01:41<00:00,  6.77s/it]\n"
          ]
        },
        {
          "output_type": "stream",
          "name": "stdout",
          "text": [
            "   parameter      rmse\n",
            "0       BRAT  0.000572\n",
            "1       DEGT  2.457834\n",
            "2       EGTC  1.104739\n",
            "3     GPCN25  0.066851\n",
            "4       GWFM  0.433354\n",
            "5      PCN12  0.076237\n",
            "6     PCN12I  0.066664\n",
            "7      PCN1K  0.079818\n",
            "8      PCN2C  0.043441\n",
            "9        WBI  0.000572\n",
            "10      WFMP  4.553451\n",
            "11  ZPCN25_D  0.049547\n",
            "12    ZT49_D  3.657592\n",
            "13    ZTLA_D  0.057342\n",
            "14   ZWF36_D  8.664141\n",
            "Dataset :  Xt7\n"
          ]
        },
        {
          "output_type": "stream",
          "name": "stderr",
          "text": [
            "100%|██████████| 14/14 [01:11<00:00,  5.09s/it]\n"
          ]
        },
        {
          "output_type": "stream",
          "name": "stdout",
          "text": [
            "   parameter      rmse\n",
            "0       BRAT  0.009424\n",
            "1      DELFN  0.124969\n",
            "2      DELN1  0.099247\n",
            "3     EGTHDM  0.383315\n",
            "4   EGTHDM_D  0.164772\n",
            "5      PCN12  0.064799\n",
            "6     PCN12I  0.056194\n",
            "7     PCN1AR  0.090109\n",
            "8     PCN1BR  0.088188\n",
            "9      PCN1K  0.077520\n",
            "10    SLOATL  0.121331\n",
            "11  SLOATL_D  0.047761\n",
            "12  ZPCN25_D  0.075100\n",
            "13    ZT49_D  0.958128\n",
            "Dataset :  Xc7\n"
          ]
        },
        {
          "output_type": "stream",
          "name": "stderr",
          "text": [
            "100%|██████████| 19/19 [01:35<00:00,  5.02s/it]"
          ]
        },
        {
          "output_type": "stream",
          "name": "stdout",
          "text": [
            "   parameter      rmse\n",
            "0       DEGT  0.300055\n",
            "1      DPOIL  0.050490\n",
            "2       EGTC  0.595171\n",
            "3     EGTHDM  0.464938\n",
            "4     GEGTMC  0.271239\n",
            "5      GN2MC  0.006869\n",
            "6     GPCN25  0.006450\n",
            "7       GWFM  0.283252\n",
            "8      PCN12  0.040840\n",
            "9     PCN12I  0.040840\n",
            "10     PCN1K  0.044413\n",
            "11     PCN2C  0.028275\n",
            "12    SLOATL  0.144230\n",
            "13      WFMP  3.690094\n",
            "14  ZPCN25_D  0.041472\n",
            "15    ZT49_D  2.112228\n",
            "16   ZWF36_D  5.661522\n"
          ]
        },
        {
          "output_type": "stream",
          "name": "stderr",
          "text": [
            "\n"
          ]
        }
      ],
      "source": [
        "for i in range(6):\n",
        "  print('Dataset : ', Xnames[i])\n",
        "  scores = pd.DataFrame(columns=[\"parameter\", \"rmse\"])\n",
        "  exec(f\"output_parameters = {ynames[i]}.columns.drop(['flight_datetime', 'flight_phase', 'engine_id'])\")\n",
        "\n",
        "  for param in tqdm(output_parameters):\n",
        "      try:\n",
        "          exec(f\"score = cb_score(param, {Xnames[i]}, {ynames[i]})\")\n",
        "          scores.loc[len(scores)] = [param, score] \n",
        "      except:\n",
        "          continue\n",
        "  print(scores)"
      ]
    },
    {
      "cell_type": "code",
      "source": [
        "def lgbm_score(predict_field, XX, yy):\n",
        "    df = pd.merge(XX, yy, on=[\"engine_id\", \"flight_datetime\", \"flight_phase\"])\n",
        "    df = df[df[predict_field].notna()]\n",
        "    #df = df.fillna(-100)\n",
        "    X = df.drop(columns=[predict_field])\n",
        "    X = X.drop(columns=[\n",
        "        \"engine_id\", \"aircraft_id\", \"flight_datetime\",\n",
        "        \"flight_phase\", \"engine_family\", \"engine_type\", \"manufacturer\",\n",
        "        \"aircraft_family\", \"aircraft_type\", \"aircraft_grp\", \"ac_manufacturer\"])\n",
        "    y = df[predict_field]\n",
        "    \n",
        "    X_train, X_test, y_train, y_test = train_test_split(X, y, test_size=0.25, random_state=42)\n",
        "\n",
        "    model = LGBMRegressor()\n",
        "    model.fit(X_train, y_train)\n",
        "    lgbm_predicted = model.predict(X_test)\n",
        "    lgbm_score = mean_squared_error(y_test, lgbm_predicted, squared=False)\n",
        "    lgbm_predicted = model.predict(X)\n",
        "    return lgbm_score"
      ],
      "metadata": {
        "id": "9dO9ftZSExSQ"
      },
      "id": "9dO9ftZSExSQ",
      "execution_count": 85,
      "outputs": []
    },
    {
      "cell_type": "code",
      "source": [
        "for i in range(6):\n",
        "  #exec(f\"{Xnames[i]}.dropna(axis='columns',how='all', inplace=True)\")\n",
        "  #exec(f\"count_nan_cols({Xnames[i]})\")\n",
        "  #exec(f\"df = pd.merge({Xnames[i]}, {ynames[i]}, on=['engine_id', 'flight_datetime', 'flight_phase'])\")\n",
        "  #print(Xnames[i])\n",
        "  print('Dataset : ', Xnames[i])\n",
        "  scores = pd.DataFrame(columns=[\"parameter\", \"rmse\"])\n",
        "  exec(f\"output_parameters = {ynames[i]}.columns.drop(['flight_datetime', 'flight_phase', 'engine_id'])\")\n",
        "\n",
        "  for param in tqdm(output_parameters):\n",
        "      try:\n",
        "          exec(f\"score = lgbm_score(param, {Xnames[i]}, {ynames[i]})\")\n",
        "          #qua = df[param].quantile([.0, .1, .5, .9, 1])\n",
        "          #qua = list(qua)\n",
        "          scores.loc[len(scores)] = [param, score] \n",
        "      except:\n",
        "          continue\n",
        "  print(scores)"
      ],
      "metadata": {
        "colab": {
          "base_uri": "https://localhost:8080/"
        },
        "id": "-2wHXAkgEneT",
        "outputId": "d13d4395-1dd3-4fd8-8457-41d7b6b196b7"
      },
      "id": "-2wHXAkgEneT",
      "execution_count": 86,
      "outputs": [
        {
          "output_type": "stream",
          "name": "stdout",
          "text": [
            "Dataset :  Xt5b\n"
          ]
        },
        {
          "output_type": "stream",
          "name": "stderr",
          "text": [
            "100%|██████████| 15/15 [00:04<00:00,  3.44it/s]\n"
          ]
        },
        {
          "output_type": "stream",
          "name": "stdout",
          "text": [
            "   parameter      rmse\n",
            "0       BRAT  0.013761\n",
            "1      DELFN  0.224656\n",
            "2      DELN1  0.123318\n",
            "3     EGTHDM  2.325645\n",
            "4   EGTHDM_D  0.123267\n",
            "5      PCN12  0.171598\n",
            "6     PCN12I  0.155378\n",
            "7     PCN1AR  0.154302\n",
            "8     PCN1BR  0.168396\n",
            "9      PCN1K  0.156837\n",
            "10    SLOATL  1.419165\n",
            "11  SLOATL_D  0.045466\n",
            "12       WBE  0.015269\n",
            "13  ZPCN25_D  0.084865\n",
            "14    ZT49_D  0.785672\n",
            "Dataset :  Xc5b\n"
          ]
        },
        {
          "output_type": "stream",
          "name": "stderr",
          "text": [
            "100%|██████████| 23/23 [00:27<00:00,  1.21s/it]\n"
          ]
        },
        {
          "output_type": "stream",
          "name": "stdout",
          "text": [
            "   parameter       rmse\n",
            "0       BRAT   0.007127\n",
            "1       DEGT   0.603038\n",
            "2     DELVSV   0.032136\n",
            "3      DPOIL   0.063277\n",
            "4       EGTC   0.774277\n",
            "5     EGTHDM   0.705264\n",
            "6     GEGTMC   0.601644\n",
            "7      GN2MC   0.047333\n",
            "8     GPCN25   0.049280\n",
            "9       GWFM   0.420539\n",
            "10     PCN12   0.103739\n",
            "11    PCN12I   0.103739\n",
            "12     PCN1K   0.190249\n",
            "13     PCN2C   0.032880\n",
            "14    SLOATL   0.204362\n",
            "15    VSVNOM   0.000000\n",
            "16       WBE   0.006359\n",
            "17       WBI   0.007126\n",
            "18      WFMP  10.316546\n",
            "19  ZPCN25_D   0.038334\n",
            "20    ZT49_D   1.299324\n",
            "21   ZTNAC_D   2.225659\n",
            "22   ZWF36_D   6.667480\n",
            "Dataset :  Xt8e\n"
          ]
        },
        {
          "output_type": "stream",
          "name": "stderr",
          "text": [
            "100%|██████████| 10/10 [00:10<00:00,  1.07s/it]\n"
          ]
        },
        {
          "output_type": "stream",
          "name": "stdout",
          "text": [
            "  parameter       rmse\n",
            "0      BRAT   0.000007\n",
            "1    EGTHDM   0.337281\n",
            "2  EGTHDM_D   0.182473\n",
            "3     PCN12   0.050723\n",
            "4     PCN1K   0.048058\n",
            "5    SLOATL   0.098698\n",
            "6  SLOATL_D   0.052702\n",
            "7  ZPCN25_D   0.055363\n",
            "8    ZT49_D   0.449380\n",
            "9   ZWF36_D  22.147783\n",
            "Dataset :  Xc8e\n"
          ]
        },
        {
          "output_type": "stream",
          "name": "stderr",
          "text": [
            "100%|██████████| 15/15 [00:14<00:00,  1.03it/s]\n"
          ]
        },
        {
          "output_type": "stream",
          "name": "stdout",
          "text": [
            "   parameter      rmse\n",
            "0       BRAT  0.000002\n",
            "1       DEGT  3.549591\n",
            "2       EGTC  1.305048\n",
            "3     GPCN25  0.074385\n",
            "4       GWFM  0.541135\n",
            "5      PCN12  0.104632\n",
            "6     PCN12I  0.095343\n",
            "7      PCN1K  0.097771\n",
            "8      PCN2C  0.050804\n",
            "9        WBI  0.000002\n",
            "10      WFMP  4.982666\n",
            "11  ZPCN25_D  0.053112\n",
            "12    ZT49_D  3.829023\n",
            "13    ZTLA_D  0.051606\n",
            "14   ZWF36_D  8.906177\n",
            "Dataset :  Xt7\n"
          ]
        },
        {
          "output_type": "stream",
          "name": "stderr",
          "text": [
            "100%|██████████| 14/14 [00:11<00:00,  1.24it/s]\n"
          ]
        },
        {
          "output_type": "stream",
          "name": "stdout",
          "text": [
            "   parameter      rmse\n",
            "0       BRAT  0.000002\n",
            "1      DELFN  0.122788\n",
            "2      DELN1  0.088076\n",
            "3     EGTHDM  0.326272\n",
            "4   EGTHDM_D  0.145461\n",
            "5      PCN12  0.068701\n",
            "6     PCN12I  0.052395\n",
            "7     PCN1AR  0.088180\n",
            "8     PCN1BR  0.079453\n",
            "9      PCN1K  0.071841\n",
            "10    SLOATL  0.096270\n",
            "11  SLOATL_D  0.047381\n",
            "12  ZPCN25_D  0.077042\n",
            "13    ZT49_D  0.976120\n",
            "Dataset :  Xc7\n"
          ]
        },
        {
          "output_type": "stream",
          "name": "stderr",
          "text": [
            "100%|██████████| 19/19 [00:13<00:00,  1.37it/s]"
          ]
        },
        {
          "output_type": "stream",
          "name": "stdout",
          "text": [
            "   parameter      rmse\n",
            "0       BRAT  0.017125\n",
            "1       DEGT  0.306294\n",
            "2      DPOIL  0.101948\n",
            "3       EGTC  0.796295\n",
            "4     EGTHDM  0.444674\n",
            "5     GEGTMC  0.285334\n",
            "6      GN2MC  0.006917\n",
            "7     GPCN25  0.006730\n",
            "8       GWFM  0.336543\n",
            "9      PCN12  0.053743\n",
            "10    PCN12I  0.053743\n",
            "11     PCN1K  0.103726\n",
            "12     PCN2C  0.031026\n",
            "13    SLOATL  0.140968\n",
            "14       WBI  0.017125\n",
            "15      WFMP  4.471431\n",
            "16  ZPCN25_D  0.042230\n",
            "17    ZT49_D  2.202510\n",
            "18   ZWF36_D  5.915052\n"
          ]
        },
        {
          "output_type": "stream",
          "name": "stderr",
          "text": [
            "\n"
          ]
        }
      ]
    }
  ],
  "metadata": {
    "kernelspec": {
      "display_name": "Python 3 (ipykernel)",
      "language": "python",
      "name": "python3"
    },
    "language_info": {
      "codemirror_mode": {
        "name": "ipython",
        "version": 3
      },
      "file_extension": ".py",
      "mimetype": "text/x-python",
      "name": "python",
      "nbconvert_exporter": "python",
      "pygments_lexer": "ipython3",
      "version": "3.9.16"
    },
    "colab": {
      "provenance": []
    }
  },
  "nbformat": 4,
  "nbformat_minor": 5
}