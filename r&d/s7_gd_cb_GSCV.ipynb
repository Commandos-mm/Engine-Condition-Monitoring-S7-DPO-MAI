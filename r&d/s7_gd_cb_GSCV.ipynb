{
  "cells": [
    {
      "cell_type": "code",
      "execution_count": 10,
      "id": "32a6f9d9",
      "metadata": {
        "id": "32a6f9d9"
      },
      "outputs": [
        {
          "name": "stdout",
          "output_type": "stream",
          "text": [
            "\u001b[33mWARNING: Skipping /opt/homebrew/lib/python3.11/site-packages/six-1.16.0-py3.11.egg-info due to invalid metadata entry 'name'\u001b[0m\u001b[33m\n",
            "\u001b[0m\u001b[33mWARNING: Skipping /opt/homebrew/lib/python3.11/site-packages/six-1.16.0-py3.11.egg-info due to invalid metadata entry 'name'\u001b[0m\u001b[33m\n",
            "\u001b[0mRequirement already satisfied: numpy in /opt/homebrew/lib/python3.11/site-packages (1.24.3)\n",
            "\u001b[33mWARNING: Skipping /opt/homebrew/lib/python3.11/site-packages/six-1.16.0-py3.11.egg-info due to invalid metadata entry 'name'\u001b[0m\u001b[33m\n",
            "\u001b[0m\u001b[33mWARNING: Skipping /opt/homebrew/lib/python3.11/site-packages/six-1.16.0-py3.11.egg-info due to invalid metadata entry 'name'\u001b[0m\u001b[33m\n",
            "\u001b[0m\u001b[33mWARNING: Skipping /opt/homebrew/lib/python3.11/site-packages/six-1.16.0-py3.11.egg-info due to invalid metadata entry 'name'\u001b[0m\u001b[33m\n",
            "\u001b[0m\u001b[33mWARNING: Skipping /opt/homebrew/lib/python3.11/site-packages/six-1.16.0-py3.11.egg-info due to invalid metadata entry 'name'\u001b[0m\u001b[33m\n",
            "\u001b[0m\n",
            "\u001b[1m[\u001b[0m\u001b[34;49mnotice\u001b[0m\u001b[1;39;49m]\u001b[0m\u001b[39;49m A new release of pip available: \u001b[0m\u001b[31;49m22.3.1\u001b[0m\u001b[39;49m -> \u001b[0m\u001b[32;49m23.1.2\u001b[0m\n",
            "\u001b[1m[\u001b[0m\u001b[34;49mnotice\u001b[0m\u001b[1;39;49m]\u001b[0m\u001b[39;49m To update, run: \u001b[0m\u001b[32;49mpython3.11 -m pip install --upgrade pip\u001b[0m\n",
            "Note: you may need to restart the kernel to use updated packages.\n",
            "\u001b[33mWARNING: Skipping /opt/homebrew/lib/python3.11/site-packages/six-1.16.0-py3.11.egg-info due to invalid metadata entry 'name'\u001b[0m\u001b[33m\n",
            "\u001b[0m\u001b[33mWARNING: Skipping /opt/homebrew/lib/python3.11/site-packages/six-1.16.0-py3.11.egg-info due to invalid metadata entry 'name'\u001b[0m\u001b[33m\n",
            "\u001b[0mRequirement already satisfied: pandas in /opt/homebrew/lib/python3.11/site-packages (2.0.1)\n",
            "Requirement already satisfied: python-dateutil>=2.8.2 in /Users/ak/Library/Python/3.11/lib/python/site-packages (from pandas) (2.8.2)\n",
            "Requirement already satisfied: pytz>=2020.1 in /opt/homebrew/lib/python3.11/site-packages (from pandas) (2023.3)\n",
            "Requirement already satisfied: tzdata>=2022.1 in /opt/homebrew/lib/python3.11/site-packages (from pandas) (2023.3)\n",
            "Requirement already satisfied: numpy>=1.21.0 in /opt/homebrew/lib/python3.11/site-packages (from pandas) (1.24.3)\n",
            "Requirement already satisfied: six>=1.5 in /Users/ak/Library/Python/3.11/lib/python/site-packages (from python-dateutil>=2.8.2->pandas) (1.16.0)\n",
            "\u001b[33mWARNING: Skipping /opt/homebrew/lib/python3.11/site-packages/six-1.16.0-py3.11.egg-info due to invalid metadata entry 'name'\u001b[0m\u001b[33m\n",
            "\u001b[0m\u001b[33mWARNING: Skipping /opt/homebrew/lib/python3.11/site-packages/six-1.16.0-py3.11.egg-info due to invalid metadata entry 'name'\u001b[0m\u001b[33m\n",
            "\u001b[0m\u001b[33mWARNING: Skipping /opt/homebrew/lib/python3.11/site-packages/six-1.16.0-py3.11.egg-info due to invalid metadata entry 'name'\u001b[0m\u001b[33m\n",
            "\u001b[0m\u001b[33mWARNING: Skipping /opt/homebrew/lib/python3.11/site-packages/six-1.16.0-py3.11.egg-info due to invalid metadata entry 'name'\u001b[0m\u001b[33m\n",
            "\u001b[0m\n",
            "\u001b[1m[\u001b[0m\u001b[34;49mnotice\u001b[0m\u001b[1;39;49m]\u001b[0m\u001b[39;49m A new release of pip available: \u001b[0m\u001b[31;49m22.3.1\u001b[0m\u001b[39;49m -> \u001b[0m\u001b[32;49m23.1.2\u001b[0m\n",
            "\u001b[1m[\u001b[0m\u001b[34;49mnotice\u001b[0m\u001b[1;39;49m]\u001b[0m\u001b[39;49m To update, run: \u001b[0m\u001b[32;49mpython3.11 -m pip install --upgrade pip\u001b[0m\n",
            "Note: you may need to restart the kernel to use updated packages.\n",
            "\u001b[33mWARNING: Skipping /opt/homebrew/lib/python3.11/site-packages/six-1.16.0-py3.11.egg-info due to invalid metadata entry 'name'\u001b[0m\u001b[33m\n",
            "\u001b[0m\u001b[33mWARNING: Skipping /opt/homebrew/lib/python3.11/site-packages/six-1.16.0-py3.11.egg-info due to invalid metadata entry 'name'\u001b[0m\u001b[33m\n",
            "\u001b[0mRequirement already satisfied: tqdm in /opt/homebrew/lib/python3.11/site-packages (4.65.0)\n",
            "\u001b[33mWARNING: Skipping /opt/homebrew/lib/python3.11/site-packages/six-1.16.0-py3.11.egg-info due to invalid metadata entry 'name'\u001b[0m\u001b[33m\n",
            "\u001b[0m\u001b[33mWARNING: Skipping /opt/homebrew/lib/python3.11/site-packages/six-1.16.0-py3.11.egg-info due to invalid metadata entry 'name'\u001b[0m\u001b[33m\n",
            "\u001b[0m\u001b[33mWARNING: Skipping /opt/homebrew/lib/python3.11/site-packages/six-1.16.0-py3.11.egg-info due to invalid metadata entry 'name'\u001b[0m\u001b[33m\n",
            "\u001b[0m\u001b[33mWARNING: Skipping /opt/homebrew/lib/python3.11/site-packages/six-1.16.0-py3.11.egg-info due to invalid metadata entry 'name'\u001b[0m\u001b[33m\n",
            "\u001b[0m\n",
            "\u001b[1m[\u001b[0m\u001b[34;49mnotice\u001b[0m\u001b[1;39;49m]\u001b[0m\u001b[39;49m A new release of pip available: \u001b[0m\u001b[31;49m22.3.1\u001b[0m\u001b[39;49m -> \u001b[0m\u001b[32;49m23.1.2\u001b[0m\n",
            "\u001b[1m[\u001b[0m\u001b[34;49mnotice\u001b[0m\u001b[1;39;49m]\u001b[0m\u001b[39;49m To update, run: \u001b[0m\u001b[32;49mpython3.11 -m pip install --upgrade pip\u001b[0m\n",
            "Note: you may need to restart the kernel to use updated packages.\n",
            "\u001b[33mWARNING: Skipping /opt/homebrew/lib/python3.11/site-packages/six-1.16.0-py3.11.egg-info due to invalid metadata entry 'name'\u001b[0m\u001b[33m\n",
            "\u001b[0m\u001b[33mWARNING: Skipping /opt/homebrew/lib/python3.11/site-packages/six-1.16.0-py3.11.egg-info due to invalid metadata entry 'name'\u001b[0m\u001b[33m\n",
            "\u001b[0mRequirement already satisfied: scikit-learn in /opt/homebrew/lib/python3.11/site-packages (1.2.2)\n",
            "Requirement already satisfied: numpy>=1.17.3 in /opt/homebrew/lib/python3.11/site-packages (from scikit-learn) (1.24.3)\n",
            "Requirement already satisfied: scipy>=1.3.2 in /opt/homebrew/lib/python3.11/site-packages (from scikit-learn) (1.10.1)\n",
            "Requirement already satisfied: joblib>=1.1.1 in /opt/homebrew/lib/python3.11/site-packages (from scikit-learn) (1.2.0)\n",
            "Requirement already satisfied: threadpoolctl>=2.0.0 in /opt/homebrew/lib/python3.11/site-packages (from scikit-learn) (3.1.0)\n",
            "\u001b[33mWARNING: Skipping /opt/homebrew/lib/python3.11/site-packages/six-1.16.0-py3.11.egg-info due to invalid metadata entry 'name'\u001b[0m\u001b[33m\n",
            "\u001b[0m\u001b[33mWARNING: Skipping /opt/homebrew/lib/python3.11/site-packages/six-1.16.0-py3.11.egg-info due to invalid metadata entry 'name'\u001b[0m\u001b[33m\n",
            "\u001b[0m\u001b[33mWARNING: Skipping /opt/homebrew/lib/python3.11/site-packages/six-1.16.0-py3.11.egg-info due to invalid metadata entry 'name'\u001b[0m\u001b[33m\n",
            "\u001b[0m\u001b[33mWARNING: Skipping /opt/homebrew/lib/python3.11/site-packages/six-1.16.0-py3.11.egg-info due to invalid metadata entry 'name'\u001b[0m\u001b[33m\n",
            "\u001b[0m\n",
            "\u001b[1m[\u001b[0m\u001b[34;49mnotice\u001b[0m\u001b[1;39;49m]\u001b[0m\u001b[39;49m A new release of pip available: \u001b[0m\u001b[31;49m22.3.1\u001b[0m\u001b[39;49m -> \u001b[0m\u001b[32;49m23.1.2\u001b[0m\n",
            "\u001b[1m[\u001b[0m\u001b[34;49mnotice\u001b[0m\u001b[1;39;49m]\u001b[0m\u001b[39;49m To update, run: \u001b[0m\u001b[32;49mpython3.11 -m pip install --upgrade pip\u001b[0m\n",
            "Note: you may need to restart the kernel to use updated packages.\n",
            "\u001b[33mWARNING: Skipping /opt/homebrew/lib/python3.11/site-packages/six-1.16.0-py3.11.egg-info due to invalid metadata entry 'name'\u001b[0m\u001b[33m\n",
            "\u001b[0m\u001b[33mWARNING: Skipping /opt/homebrew/lib/python3.11/site-packages/six-1.16.0-py3.11.egg-info due to invalid metadata entry 'name'\u001b[0m\u001b[33m\n",
            "\u001b[0mRequirement already satisfied: catboost in /opt/homebrew/lib/python3.11/site-packages (1.2)\n",
            "Requirement already satisfied: graphviz in /opt/homebrew/lib/python3.11/site-packages (from catboost) (0.20.1)\n",
            "Requirement already satisfied: matplotlib in /opt/homebrew/lib/python3.11/site-packages (from catboost) (3.7.1)\n",
            "Requirement already satisfied: numpy>=1.16.0 in /opt/homebrew/lib/python3.11/site-packages (from catboost) (1.24.3)\n",
            "Requirement already satisfied: pandas>=0.24 in /opt/homebrew/lib/python3.11/site-packages (from catboost) (2.0.1)\n",
            "Requirement already satisfied: scipy in /opt/homebrew/lib/python3.11/site-packages (from catboost) (1.10.1)\n",
            "Requirement already satisfied: plotly in /opt/homebrew/lib/python3.11/site-packages (from catboost) (5.14.1)\n",
            "Requirement already satisfied: six in /Users/ak/Library/Python/3.11/lib/python/site-packages (from catboost) (1.16.0)\n",
            "Requirement already satisfied: python-dateutil>=2.8.2 in /Users/ak/Library/Python/3.11/lib/python/site-packages (from pandas>=0.24->catboost) (2.8.2)\n",
            "Requirement already satisfied: pytz>=2020.1 in /opt/homebrew/lib/python3.11/site-packages (from pandas>=0.24->catboost) (2023.3)\n",
            "Requirement already satisfied: tzdata>=2022.1 in /opt/homebrew/lib/python3.11/site-packages (from pandas>=0.24->catboost) (2023.3)\n",
            "Requirement already satisfied: contourpy>=1.0.1 in /opt/homebrew/lib/python3.11/site-packages (from matplotlib->catboost) (1.0.7)\n",
            "Requirement already satisfied: cycler>=0.10 in /opt/homebrew/lib/python3.11/site-packages (from matplotlib->catboost) (0.11.0)\n",
            "Requirement already satisfied: fonttools>=4.22.0 in /opt/homebrew/lib/python3.11/site-packages (from matplotlib->catboost) (4.39.4)\n",
            "Requirement already satisfied: kiwisolver>=1.0.1 in /opt/homebrew/lib/python3.11/site-packages (from matplotlib->catboost) (1.4.4)\n",
            "Requirement already satisfied: packaging>=20.0 in /Users/ak/Library/Python/3.11/lib/python/site-packages (from matplotlib->catboost) (23.1)\n",
            "Requirement already satisfied: pillow>=6.2.0 in /opt/homebrew/lib/python3.11/site-packages (from matplotlib->catboost) (9.5.0)\n",
            "Requirement already satisfied: pyparsing>=2.3.1 in /opt/homebrew/lib/python3.11/site-packages (from matplotlib->catboost) (3.0.9)\n",
            "Requirement already satisfied: tenacity>=6.2.0 in /opt/homebrew/lib/python3.11/site-packages (from plotly->catboost) (8.2.2)\n",
            "\u001b[33mWARNING: Skipping /opt/homebrew/lib/python3.11/site-packages/six-1.16.0-py3.11.egg-info due to invalid metadata entry 'name'\u001b[0m\u001b[33m\n",
            "\u001b[0m\u001b[33mWARNING: Skipping /opt/homebrew/lib/python3.11/site-packages/six-1.16.0-py3.11.egg-info due to invalid metadata entry 'name'\u001b[0m\u001b[33m\n",
            "\u001b[0m\u001b[33mWARNING: Skipping /opt/homebrew/lib/python3.11/site-packages/six-1.16.0-py3.11.egg-info due to invalid metadata entry 'name'\u001b[0m\u001b[33m\n",
            "\u001b[0m\u001b[33mWARNING: Skipping /opt/homebrew/lib/python3.11/site-packages/six-1.16.0-py3.11.egg-info due to invalid metadata entry 'name'\u001b[0m\u001b[33m\n",
            "\u001b[0m\n",
            "\u001b[1m[\u001b[0m\u001b[34;49mnotice\u001b[0m\u001b[1;39;49m]\u001b[0m\u001b[39;49m A new release of pip available: \u001b[0m\u001b[31;49m22.3.1\u001b[0m\u001b[39;49m -> \u001b[0m\u001b[32;49m23.1.2\u001b[0m\n",
            "\u001b[1m[\u001b[0m\u001b[34;49mnotice\u001b[0m\u001b[1;39;49m]\u001b[0m\u001b[39;49m To update, run: \u001b[0m\u001b[32;49mpython3.11 -m pip install --upgrade pip\u001b[0m\n",
            "Note: you may need to restart the kernel to use updated packages.\n"
          ]
        }
      ],
      "source": [
        "%pip install numpy\n",
        "%pip install pandas\n",
        "%pip install tqdm\n",
        "%pip install scikit-learn\n",
        "%pip install catboost"
      ]
    },
    {
      "cell_type": "code",
      "execution_count": 2,
      "id": "f8cd8067",
      "metadata": {
        "id": "f8cd8067"
      },
      "outputs": [],
      "source": [
        "import pandas as pd\n",
        "import numpy as np\n",
        "from tqdm import tqdm\n",
        "\n",
        "from sklearn.model_selection import train_test_split, GridSearchCV\n",
        "from sklearn.metrics import mean_squared_error, mean_absolute_error, mean_squared_error\n",
        "from catboost import CatBoostRegressor\n",
        "import pickle\n",
        "\n",
        "pd.set_option('display.max_columns', 200)"
      ]
    },
    {
      "cell_type": "code",
      "execution_count": 3,
      "id": "effDtJ_CG7aG",
      "metadata": {
        "id": "effDtJ_CG7aG"
      },
      "outputs": [],
      "source": [
        "X = pd.read_csv(\"X.csv\")\n",
        "y = pd.read_csv(\"y.csv\")\n",
        "X['ZTAMB'] = 40 / 21 * (X['ZTAMB'] - 7.5)"
      ]
    },
    {
      "cell_type": "code",
      "execution_count": 4,
      "id": "LNlzdc--KWoT",
      "metadata": {
        "id": "LNlzdc--KWoT"
      },
      "outputs": [],
      "source": [
        "#function for counting nan values in cols\n",
        "def count_nan_cols(X : pd.DataFrame):\n",
        "  count = 0\n",
        "  for i in X.columns:\n",
        "    for j in X[i]:\n",
        "      if pd.isna(j):\n",
        "        count+=1\n",
        "    if count != 0:\n",
        "      print(i, ':', count)\n",
        "    count = 0"
      ]
    },
    {
      "cell_type": "code",
      "execution_count": 5,
      "id": "695d743b",
      "metadata": {
        "id": "695d743b"
      },
      "outputs": [],
      "source": [
        "merged = X.merge(y)\n",
        "Mt5b = merged[merged['flight_phase'] == 'TAKEOFF']\n",
        "Mt5b = Mt5b[Mt5b['engine_family'] == 'CFM56-5B']\n",
        "\n",
        "Mc5b = merged[merged['flight_phase'] == 'CRUISE']\n",
        "Mc5b = Mc5b[Mc5b['engine_family'] == 'CFM56-5B']\n",
        "\n",
        "Mt8e = merged[merged['flight_phase'] == 'TAKEOFF']\n",
        "Mt8e = Mt8e[Mt8e['engine_family'] == 'CF34-8E']\n",
        "\n",
        "Mc8e = merged[merged['flight_phase'] == 'CRUISE']\n",
        "Mc8e = Mc8e[Mc8e['engine_family'] == 'CF34-8E']\n",
        "\n",
        "Mt7 = merged[merged['flight_phase'] == 'TAKEOFF']\n",
        "Mt7 = Mt7[Mt7['engine_family'] == 'CFM56-7']\n",
        "\n",
        "Mc7 = merged[merged['flight_phase'] == 'CRUISE']\n",
        "Mc7 = Mc7[Mc7['engine_family'] == 'CFM56-7']\n"
      ]
    },
    {
      "cell_type": "code",
      "execution_count": 6,
      "id": "Tt2EueM1y-jg",
      "metadata": {
        "id": "Tt2EueM1y-jg"
      },
      "outputs": [],
      "source": [
        "Mnames = ['Mt5b', 'Mc5b', 'Mt8e', 'Mc8e', 'Mt7', 'Mc7' ]"
      ]
    },
    {
      "cell_type": "code",
      "execution_count": 7,
      "id": "D74sJKrNyxtk",
      "metadata": {
        "id": "D74sJKrNyxtk"
      },
      "outputs": [],
      "source": [
        "for i in range(6):\n",
        "  exec(f\"{Mnames[i]}.dropna(axis='columns', thresh=20, inplace=True)\")\n",
        "  exec(f\"{Mnames[i]}.dropna(inplace=True)\")"
      ]
    },
    {
      "cell_type": "code",
      "execution_count": 8,
      "id": "KD7wqUUs1Xap",
      "metadata": {
        "id": "KD7wqUUs1Xap"
      },
      "outputs": [],
      "source": [
        "col = [0, 2, 3]\n",
        "\n",
        "Xt5b = Mt5b.iloc[:, :-15]\n",
        "yt5b = Mt5b.iloc[:, col + [i for i in range(34, 49)]]\n",
        "\n",
        "Xc5b = Mc5b.iloc[:,:-24]\n",
        "yc5b = Mc5b.iloc[:,col + [i for i in range(39, 62)]]\n",
        "\n",
        "Xt8e = Mt8e.iloc[:,:-10]\n",
        "yt8e = Mt8e.iloc[:,col + [i for i in range(40, 50)]]\n",
        "\n",
        "Xc8e = Mc8e.iloc[:,:-15]\n",
        "yc8e = Mc8e.iloc[:,col + [i for i in range(39, 54)]]\n",
        "\n",
        "Xt7 = Mt7.iloc[:,:-14]\n",
        "yt7 = Mt7.iloc[:,col + [i for i in range(32, 46)]]\n",
        "\n",
        "Xc7 = Mc7.iloc[:,:-19]\n",
        "yc7 = Mc7.iloc[:, col + [i for i in range(29, 48)]]"
      ]
    },
    {
      "cell_type": "code",
      "execution_count": 9,
      "id": "QoZhD8RT0IZx",
      "metadata": {
        "id": "QoZhD8RT0IZx"
      },
      "outputs": [],
      "source": [
        "Xnames = ['Xt5b', 'Xc5b', 'Xt8e', 'Xc8e', 'Xt7', 'Xc7' ]\n",
        "XObjs = [Xt5b, Xc5b, Xt8e, Xc8e, Xt7, Xc7 ]\n",
        "ynames = ['yt5b', 'yc5b', 'yt8e', 'yc8e', 'yt7', 'yc7' ]\n",
        "yObjs = [yt5b, yc5b, yt8e, yc8e, yt7, yc7 ]"
      ]
    },
    {
      "cell_type": "code",
      "execution_count": 10,
      "id": "02CaxNbHuLAc",
      "metadata": {
        "id": "02CaxNbHuLAc"
      },
      "outputs": [],
      "source": [
        "%mkdir best_models_v2"
      ]
    },
    {
      "cell_type": "code",
      "execution_count": 11,
      "id": "smHQZGLZgXRe",
      "metadata": {
        "colab": {
          "base_uri": "https://localhost:8080/"
        },
        "id": "smHQZGLZgXRe",
        "outputId": "a1d0c869-7beb-4187-b75b-550d15992f19"
      },
      "outputs": [
        {
          "name": "stdout",
          "output_type": "stream",
          "text": [
            "/Users/ak/Downloads/best_models_v2\n"
          ]
        }
      ],
      "source": [
        "%cd best_models_v2"
      ]
    },
    {
      "cell_type": "code",
      "execution_count": 22,
      "id": "7facb753",
      "metadata": {},
      "outputs": [
        {
          "name": "stdout",
          "output_type": "stream",
          "text": [
            "\u001b[34mcatboost_info\u001b[m\u001b[m/\n"
          ]
        }
      ],
      "source": [
        "%ls "
      ]
    },
    {
      "cell_type": "code",
      "execution_count": 28,
      "id": "3ea894f9",
      "metadata": {},
      "outputs": [],
      "source": [
        "#%rm Xc5b_BRAT.pkl"
      ]
    },
    {
      "cell_type": "code",
      "execution_count": 21,
      "id": "e4wevKt8YFL-",
      "metadata": {
        "colab": {
          "base_uri": "https://localhost:8080/"
        },
        "id": "e4wevKt8YFL-",
        "outputId": "6dc0d28d-e36c-449a-f05d-1c32e074cd84"
      },
      "outputs": [],
      "source": [
        "#%rm *.pkl"
      ]
    },
    {
      "cell_type": "code",
      "execution_count": 47,
      "id": "a971e7ca",
      "metadata": {
        "id": "a971e7ca"
      },
      "outputs": [],
      "source": [
        "def cbc_score(predict_field, XX, yy):\n",
        "    #display(XX.columns)\n",
        "    cat_cols = [\"flight_phase\", \"engine_family\", \"engine_type\", \"manufacturer\",\n",
        "        \"aircraft_family\", \"aircraft_type\", \"aircraft_grp\", \"ac_manufacturer\"]\n",
        "\n",
        "    XX = XX.astype({'flight_datetime': 'datetime64[ns]'})\n",
        "    XX.flight_datetime = pd.to_numeric(XX.flight_datetime)\n",
        "\n",
        "    XX = XX.drop(columns=[\"engine_id\", \"aircraft_id\"])\n",
        "\n",
        "    y = yy[predict_field]\n",
        "    \n",
        "    X_train, X_test, y_train, y_test = train_test_split(XX, y, test_size=0.25, random_state=42)\n",
        "\n",
        "    model = CatBoostRegressor(cat_features=cat_cols, early_stopping_rounds=500, silent=True)\n",
        "    parameters = {'max_depth'    : [4, 6, 8],\n",
        "                  'n_estimators'    : [1000, 3000],\n",
        "                  'learning_rate' : [0.02, 0.1],\n",
        "                  'l2_leaf_reg' : [3, 9]\n",
        "                  }\n",
        "                 \n",
        "    Grid_CBC = GridSearchCV(estimator=model, param_grid=parameters, n_jobs=-1, refit=True, scoring= 'neg_mean_squared_error')\n",
        "    Grid_CBC.fit(X_train, y_train)\n",
        "    print('Parameter : ', predict_field)\n",
        "    print(\"best score\", abs(Grid_CBC.best_score_))\n",
        "    print(\"\\n The best parameters across ALL searched params:\\n\", Grid_CBC.best_params_)\n",
        "    #pickle.dump( Grid_CBC.best_estimator_, open( exec(f\"{count}.p\"), \"wb\" ) )\n",
        "    return [Grid_CBC.best_score_ , Grid_CBC.best_estimator_]"
      ]
    },
    {
      "cell_type": "code",
      "execution_count": 48,
      "id": "jMiFAJFGBMBD",
      "metadata": {
        "colab": {
          "base_uri": "https://localhost:8080/"
        },
        "id": "jMiFAJFGBMBD",
        "outputId": "d5bfa2fa-02b3-48b3-958f-87c8afb976fb"
      },
      "outputs": [
        {
          "name": "stdout",
          "output_type": "stream",
          "text": [
            "Dataset :  Xt5b\n"
          ]
        },
        {
          "name": "stderr",
          "output_type": "stream",
          "text": [
            "  7%|▋         | 1/15 [03:07<43:40, 187.20s/it]"
          ]
        },
        {
          "name": "stdout",
          "output_type": "stream",
          "text": [
            "Parameter :  BRAT\n",
            "best score 0.0010940170337297547\n",
            "\n",
            " The best parameters across ALL searched params:\n",
            " {'l2_leaf_reg': 9, 'learning_rate': 0.1, 'max_depth': 4, 'n_estimators': 3000}\n"
          ]
        },
        {
          "name": "stderr",
          "output_type": "stream",
          "text": [
            " 13%|█▎        | 2/15 [07:03<46:47, 215.93s/it]"
          ]
        },
        {
          "name": "stdout",
          "output_type": "stream",
          "text": [
            "Parameter :  DELFN\n",
            "best score 0.1629234901237845\n",
            "\n",
            " The best parameters across ALL searched params:\n",
            " {'l2_leaf_reg': 3, 'learning_rate': 0.02, 'max_depth': 4, 'n_estimators': 3000}\n"
          ]
        },
        {
          "name": "stderr",
          "output_type": "stream",
          "text": [
            " 20%|██        | 3/15 [10:29<42:19, 211.63s/it]"
          ]
        },
        {
          "name": "stdout",
          "output_type": "stream",
          "text": [
            "Parameter :  DELN1\n",
            "best score 0.029393272515290357\n",
            "\n",
            " The best parameters across ALL searched params:\n",
            " {'l2_leaf_reg': 9, 'learning_rate': 0.1, 'max_depth': 4, 'n_estimators': 3000}\n"
          ]
        },
        {
          "name": "stderr",
          "output_type": "stream",
          "text": [
            " 27%|██▋       | 4/15 [14:00<38:43, 211.26s/it]"
          ]
        },
        {
          "name": "stdout",
          "output_type": "stream",
          "text": [
            "Parameter :  EGTHDM\n",
            "best score 8.936515285136661\n",
            "\n",
            " The best parameters across ALL searched params:\n",
            " {'l2_leaf_reg': 9, 'learning_rate': 0.1, 'max_depth': 4, 'n_estimators': 3000}\n"
          ]
        },
        {
          "name": "stderr",
          "output_type": "stream",
          "text": [
            " 33%|███▎      | 5/15 [17:41<35:49, 214.92s/it]"
          ]
        },
        {
          "name": "stdout",
          "output_type": "stream",
          "text": [
            "Parameter :  EGTHDM_D\n",
            "best score 9.506863028132036\n",
            "\n",
            " The best parameters across ALL searched params:\n",
            " {'l2_leaf_reg': 9, 'learning_rate': 0.02, 'max_depth': 8, 'n_estimators': 3000}\n"
          ]
        },
        {
          "name": "stderr",
          "output_type": "stream",
          "text": [
            " 40%|████      | 6/15 [21:16<32:14, 214.93s/it]"
          ]
        },
        {
          "name": "stdout",
          "output_type": "stream",
          "text": [
            "Parameter :  PCN12\n",
            "best score 0.008396581545220327\n",
            "\n",
            " The best parameters across ALL searched params:\n",
            " {'l2_leaf_reg': 3, 'learning_rate': 0.02, 'max_depth': 4, 'n_estimators': 3000}\n"
          ]
        },
        {
          "name": "stderr",
          "output_type": "stream",
          "text": [
            " 47%|████▋     | 7/15 [24:58<28:57, 217.15s/it]"
          ]
        },
        {
          "name": "stdout",
          "output_type": "stream",
          "text": [
            "Parameter :  PCN12I\n",
            "best score 0.006232808965141644\n",
            "\n",
            " The best parameters across ALL searched params:\n",
            " {'l2_leaf_reg': 3, 'learning_rate': 0.02, 'max_depth': 4, 'n_estimators': 3000}\n"
          ]
        },
        {
          "name": "stderr",
          "output_type": "stream",
          "text": [
            " 53%|█████▎    | 8/15 [28:58<26:11, 224.57s/it]"
          ]
        },
        {
          "name": "stdout",
          "output_type": "stream",
          "text": [
            "Parameter :  PCN1AR\n",
            "best score 0.015113304067114511\n",
            "\n",
            " The best parameters across ALL searched params:\n",
            " {'l2_leaf_reg': 3, 'learning_rate': 0.02, 'max_depth': 4, 'n_estimators': 3000}\n"
          ]
        },
        {
          "name": "stderr",
          "output_type": "stream",
          "text": [
            " 60%|██████    | 9/15 [32:30<22:03, 220.55s/it]"
          ]
        },
        {
          "name": "stdout",
          "output_type": "stream",
          "text": [
            "Parameter :  PCN1BR\n",
            "best score 0.011748667179598596\n",
            "\n",
            " The best parameters across ALL searched params:\n",
            " {'l2_leaf_reg': 3, 'learning_rate': 0.02, 'max_depth': 4, 'n_estimators': 3000}\n"
          ]
        },
        {
          "name": "stderr",
          "output_type": "stream",
          "text": [
            " 67%|██████▋   | 10/15 [36:10<18:21, 220.34s/it]"
          ]
        },
        {
          "name": "stdout",
          "output_type": "stream",
          "text": [
            "Parameter :  PCN1K\n",
            "best score 0.01540616002053379\n",
            "\n",
            " The best parameters across ALL searched params:\n",
            " {'l2_leaf_reg': 3, 'learning_rate': 0.02, 'max_depth': 4, 'n_estimators': 3000}\n"
          ]
        },
        {
          "name": "stderr",
          "output_type": "stream",
          "text": [
            " 73%|███████▎  | 11/15 [39:45<14:34, 218.65s/it]"
          ]
        },
        {
          "name": "stdout",
          "output_type": "stream",
          "text": [
            "Parameter :  SLOATL\n",
            "best score 0.954825701324863\n",
            "\n",
            " The best parameters across ALL searched params:\n",
            " {'l2_leaf_reg': 3, 'learning_rate': 0.1, 'max_depth': 4, 'n_estimators': 3000}\n"
          ]
        },
        {
          "name": "stderr",
          "output_type": "stream",
          "text": [
            " 80%|████████  | 12/15 [43:36<11:06, 222.32s/it]"
          ]
        },
        {
          "name": "stdout",
          "output_type": "stream",
          "text": [
            "Parameter :  SLOATL_D\n",
            "best score 1.0211265404869443\n",
            "\n",
            " The best parameters across ALL searched params:\n",
            " {'l2_leaf_reg': 9, 'learning_rate': 0.02, 'max_depth': 8, 'n_estimators': 3000}\n"
          ]
        },
        {
          "name": "stderr",
          "output_type": "stream",
          "text": [
            " 87%|████████▋ | 13/15 [47:03<07:15, 217.70s/it]"
          ]
        },
        {
          "name": "stdout",
          "output_type": "stream",
          "text": [
            "Parameter :  WBE\n",
            "best score 0.0016462747897628895\n",
            "\n",
            " The best parameters across ALL searched params:\n",
            " {'l2_leaf_reg': 3, 'learning_rate': 0.1, 'max_depth': 4, 'n_estimators': 3000}\n"
          ]
        },
        {
          "name": "stderr",
          "output_type": "stream",
          "text": [
            " 93%|█████████▎| 14/15 [50:16<03:30, 210.46s/it]"
          ]
        },
        {
          "name": "stdout",
          "output_type": "stream",
          "text": [
            "Parameter :  ZPCN25_D\n",
            "best score 0.007439483043219335\n",
            "\n",
            " The best parameters across ALL searched params:\n",
            " {'l2_leaf_reg': 3, 'learning_rate': 0.02, 'max_depth': 8, 'n_estimators': 1000}\n"
          ]
        },
        {
          "name": "stderr",
          "output_type": "stream",
          "text": [
            "100%|██████████| 15/15 [53:38<00:00, 214.57s/it]\n"
          ]
        },
        {
          "name": "stdout",
          "output_type": "stream",
          "text": [
            "Parameter :  ZT49_D\n",
            "best score 7.689238967829678\n",
            "\n",
            " The best parameters across ALL searched params:\n",
            " {'l2_leaf_reg': 3, 'learning_rate': 0.02, 'max_depth': 8, 'n_estimators': 3000}\n",
            "   parameter     score\n",
            "0       BRAT -0.001094\n",
            "1      DELFN -0.162923\n",
            "2      DELN1 -0.029393\n",
            "3     EGTHDM -8.936515\n",
            "4   EGTHDM_D -9.506863\n",
            "5      PCN12 -0.008397\n",
            "6     PCN12I -0.006233\n",
            "7     PCN1AR -0.015113\n",
            "8     PCN1BR -0.011749\n",
            "9      PCN1K -0.015406\n",
            "10    SLOATL -0.954826\n",
            "11  SLOATL_D -1.021127\n",
            "12       WBE -0.001646\n",
            "13  ZPCN25_D -0.007439\n",
            "14    ZT49_D -7.689239\n",
            "Dataset :  Xc5b\n"
          ]
        },
        {
          "name": "stderr",
          "output_type": "stream",
          "text": [
            "  4%|▍         | 1/23 [06:01<2:12:37, 361.70s/it]"
          ]
        },
        {
          "name": "stdout",
          "output_type": "stream",
          "text": [
            "Parameter :  BRAT\n",
            "best score 0.0002750001816558255\n",
            "\n",
            " The best parameters across ALL searched params:\n",
            " {'l2_leaf_reg': 3, 'learning_rate': 0.02, 'max_depth': 6, 'n_estimators': 3000}\n"
          ]
        },
        {
          "name": "stderr",
          "output_type": "stream",
          "text": [
            "  9%|▊         | 2/23 [11:50<2:04:00, 354.32s/it]"
          ]
        },
        {
          "name": "stdout",
          "output_type": "stream",
          "text": [
            "Parameter :  DEGT\n",
            "best score 1.6401560604137893\n",
            "\n",
            " The best parameters across ALL searched params:\n",
            " {'l2_leaf_reg': 3, 'learning_rate': 0.1, 'max_depth': 4, 'n_estimators': 3000}\n"
          ]
        },
        {
          "name": "stderr",
          "output_type": "stream",
          "text": [
            " 13%|█▎        | 3/23 [17:07<1:52:20, 337.04s/it]"
          ]
        },
        {
          "name": "stdout",
          "output_type": "stream",
          "text": [
            "Parameter :  DELVSV\n",
            "best score 0.00010645499348585873\n",
            "\n",
            " The best parameters across ALL searched params:\n",
            " {'l2_leaf_reg': 9, 'learning_rate': 0.1, 'max_depth': 4, 'n_estimators': 3000}\n"
          ]
        },
        {
          "name": "stderr",
          "output_type": "stream",
          "text": [
            " 17%|█▋        | 4/23 [22:26<1:44:26, 329.80s/it]"
          ]
        },
        {
          "name": "stdout",
          "output_type": "stream",
          "text": [
            "Parameter :  DPOIL\n",
            "best score 0.0014579252642454603\n",
            "\n",
            " The best parameters across ALL searched params:\n",
            " {'l2_leaf_reg': 9, 'learning_rate': 0.1, 'max_depth': 4, 'n_estimators': 3000}\n"
          ]
        },
        {
          "name": "stderr",
          "output_type": "stream",
          "text": [
            " 22%|██▏       | 5/23 [27:59<1:39:17, 330.95s/it]"
          ]
        },
        {
          "name": "stdout",
          "output_type": "stream",
          "text": [
            "Parameter :  EGTC\n",
            "best score 0.6405549595249407\n",
            "\n",
            " The best parameters across ALL searched params:\n",
            " {'l2_leaf_reg': 3, 'learning_rate': 0.1, 'max_depth': 4, 'n_estimators': 3000}\n"
          ]
        },
        {
          "name": "stderr",
          "output_type": "stream",
          "text": [
            " 26%|██▌       | 6/23 [33:47<1:35:28, 336.98s/it]"
          ]
        },
        {
          "name": "stdout",
          "output_type": "stream",
          "text": [
            "Parameter :  EGTHDM\n",
            "best score 7.057447258376466\n",
            "\n",
            " The best parameters across ALL searched params:\n",
            " {'l2_leaf_reg': 9, 'learning_rate': 0.1, 'max_depth': 6, 'n_estimators': 3000}\n"
          ]
        },
        {
          "name": "stderr",
          "output_type": "stream",
          "text": [
            " 30%|███       | 7/23 [39:40<1:31:14, 342.19s/it]"
          ]
        },
        {
          "name": "stdout",
          "output_type": "stream",
          "text": [
            "Parameter :  GEGTMC\n",
            "best score 1.853824971651683\n",
            "\n",
            " The best parameters across ALL searched params:\n",
            " {'l2_leaf_reg': 9, 'learning_rate': 0.1, 'max_depth': 4, 'n_estimators': 3000}\n"
          ]
        },
        {
          "name": "stderr",
          "output_type": "stream",
          "text": [
            " 35%|███▍      | 8/23 [45:38<1:26:46, 347.07s/it]"
          ]
        },
        {
          "name": "stdout",
          "output_type": "stream",
          "text": [
            "Parameter :  GN2MC\n",
            "best score 0.0033541143954290307\n",
            "\n",
            " The best parameters across ALL searched params:\n",
            " {'l2_leaf_reg': 3, 'learning_rate': 0.1, 'max_depth': 4, 'n_estimators': 3000}\n"
          ]
        },
        {
          "name": "stderr",
          "output_type": "stream",
          "text": [
            " 39%|███▉      | 9/23 [51:33<1:21:35, 349.71s/it]"
          ]
        },
        {
          "name": "stdout",
          "output_type": "stream",
          "text": [
            "Parameter :  GPCN25\n",
            "best score 0.003207397736878924\n",
            "\n",
            " The best parameters across ALL searched params:\n",
            " {'l2_leaf_reg': 3, 'learning_rate': 0.1, 'max_depth': 4, 'n_estimators': 3000}\n"
          ]
        },
        {
          "name": "stderr",
          "output_type": "stream",
          "text": [
            " 43%|████▎     | 10/23 [57:25<1:15:56, 350.48s/it]"
          ]
        },
        {
          "name": "stdout",
          "output_type": "stream",
          "text": [
            "Parameter :  GWFM\n",
            "best score 0.15344465248383363\n",
            "\n",
            " The best parameters across ALL searched params:\n",
            " {'l2_leaf_reg': 3, 'learning_rate': 0.1, 'max_depth': 4, 'n_estimators': 3000}\n"
          ]
        },
        {
          "name": "stderr",
          "output_type": "stream",
          "text": [
            " 48%|████▊     | 11/23 [1:03:04<1:09:21, 346.82s/it]"
          ]
        },
        {
          "name": "stdout",
          "output_type": "stream",
          "text": [
            "Parameter :  PCN12\n",
            "best score 0.0018540600832772653\n",
            "\n",
            " The best parameters across ALL searched params:\n",
            " {'l2_leaf_reg': 9, 'learning_rate': 0.1, 'max_depth': 4, 'n_estimators': 3000}\n"
          ]
        },
        {
          "name": "stderr",
          "output_type": "stream",
          "text": [
            " 52%|█████▏    | 12/23 [1:08:38<1:02:50, 342.81s/it]"
          ]
        },
        {
          "name": "stdout",
          "output_type": "stream",
          "text": [
            "Parameter :  PCN12I\n",
            "best score 0.0018540600832772653\n",
            "\n",
            " The best parameters across ALL searched params:\n",
            " {'l2_leaf_reg': 9, 'learning_rate': 0.1, 'max_depth': 4, 'n_estimators': 3000}\n"
          ]
        },
        {
          "name": "stderr",
          "output_type": "stream",
          "text": [
            " 57%|█████▋    | 13/23 [1:14:23<57:17, 343.77s/it]  "
          ]
        },
        {
          "name": "stdout",
          "output_type": "stream",
          "text": [
            "Parameter :  PCN1K\n",
            "best score 0.008820878427405596\n",
            "\n",
            " The best parameters across ALL searched params:\n",
            " {'l2_leaf_reg': 9, 'learning_rate': 0.1, 'max_depth': 6, 'n_estimators': 3000}\n"
          ]
        },
        {
          "name": "stderr",
          "output_type": "stream",
          "text": [
            " 61%|██████    | 14/23 [1:20:01<51:18, 342.02s/it]"
          ]
        },
        {
          "name": "stdout",
          "output_type": "stream",
          "text": [
            "Parameter :  PCN2C\n",
            "best score 0.0014821852893504776\n",
            "\n",
            " The best parameters across ALL searched params:\n",
            " {'l2_leaf_reg': 3, 'learning_rate': 0.1, 'max_depth': 4, 'n_estimators': 3000}\n"
          ]
        },
        {
          "name": "stderr",
          "output_type": "stream",
          "text": [
            " 65%|██████▌   | 15/23 [1:25:41<45:29, 341.19s/it]"
          ]
        },
        {
          "name": "stdout",
          "output_type": "stream",
          "text": [
            "Parameter :  SLOATL\n",
            "best score 0.6957630988541469\n",
            "\n",
            " The best parameters across ALL searched params:\n",
            " {'l2_leaf_reg': 9, 'learning_rate': 0.1, 'max_depth': 6, 'n_estimators': 3000}\n"
          ]
        },
        {
          "name": "stderr",
          "output_type": "stream",
          "text": [
            " 70%|██████▉   | 16/23 [1:25:42<27:52, 238.92s/it]"
          ]
        },
        {
          "name": "stdout",
          "output_type": "stream",
          "text": [
            "Skipped... \n",
            "All the 120 fits failed.\n",
            "It is very likely that your model is misconfigured.\n",
            "You can try to debug the error by setting error_score='raise'.\n",
            "\n",
            "Below are more details about the failures:\n",
            "--------------------------------------------------------------------------------\n",
            "120 fits failed with the following error:\n",
            "Traceback (most recent call last):\n",
            "  File \"/opt/homebrew/lib/python3.11/site-packages/sklearn/model_selection/_validation.py\", line 686, in _fit_and_score\n",
            "    estimator.fit(X_train, y_train, **fit_params)\n",
            "  File \"/opt/homebrew/lib/python3.11/site-packages/catboost/core.py\", line 5734, in fit\n",
            "    return self._fit(X, y, cat_features, text_features, embedding_features, None, sample_weight, None, None, None, None, baseline,\n",
            "           ^^^^^^^^^^^^^^^^^^^^^^^^^^^^^^^^^^^^^^^^^^^^^^^^^^^^^^^^^^^^^^^^^^^^^^^^^^^^^^^^^^^^^^^^^^^^^^^^^^^^^^^^^^^^^^^^^^^^^^^\n",
            "  File \"/opt/homebrew/lib/python3.11/site-packages/catboost/core.py\", line 2357, in _fit\n",
            "    self._train(\n",
            "  File \"/opt/homebrew/lib/python3.11/site-packages/catboost/core.py\", line 1761, in _train\n",
            "    self._object._train(train_pool, test_pool, params, allow_clear_pool, init_model._object if init_model else None)\n",
            "  File \"_catboost.pyx\", line 4625, in _catboost._CatBoost._train\n",
            "  File \"_catboost.pyx\", line 4674, in _catboost._CatBoost._train\n",
            "_catboost.CatBoostError: /Users/zomb-ml-platform-msk/go-agent-21.2.0/pipelines/BuildMaster/catboost.git/catboost/libs/metrics/metric.cpp:6487: All train targets are equal\n",
            "\n"
          ]
        },
        {
          "name": "stderr",
          "output_type": "stream",
          "text": [
            " 74%|███████▍  | 17/23 [1:31:04<26:23, 263.95s/it]"
          ]
        },
        {
          "name": "stdout",
          "output_type": "stream",
          "text": [
            "Parameter :  WBE\n",
            "best score 0.0002990042577615187\n",
            "\n",
            " The best parameters across ALL searched params:\n",
            " {'l2_leaf_reg': 3, 'learning_rate': 0.1, 'max_depth': 4, 'n_estimators': 3000}\n"
          ]
        },
        {
          "name": "stderr",
          "output_type": "stream",
          "text": [
            " 78%|███████▊  | 18/23 [1:36:36<23:42, 284.41s/it]"
          ]
        },
        {
          "name": "stdout",
          "output_type": "stream",
          "text": [
            "Parameter :  WBI\n",
            "best score 0.00027557503459154124\n",
            "\n",
            " The best parameters across ALL searched params:\n",
            " {'l2_leaf_reg': 3, 'learning_rate': 0.1, 'max_depth': 8, 'n_estimators': 3000}\n"
          ]
        },
        {
          "name": "stderr",
          "output_type": "stream",
          "text": [
            " 83%|████████▎ | 19/23 [1:42:09<19:55, 298.83s/it]"
          ]
        },
        {
          "name": "stdout",
          "output_type": "stream",
          "text": [
            "Parameter :  WFMP\n",
            "best score 153.61213031291294\n",
            "\n",
            " The best parameters across ALL searched params:\n",
            " {'l2_leaf_reg': 9, 'learning_rate': 0.1, 'max_depth': 4, 'n_estimators': 3000}\n"
          ]
        },
        {
          "name": "stderr",
          "output_type": "stream",
          "text": [
            " 87%|████████▋ | 20/23 [1:47:50<15:34, 311.55s/it]"
          ]
        },
        {
          "name": "stdout",
          "output_type": "stream",
          "text": [
            "Parameter :  ZPCN25_D\n",
            "best score 0.0017526416219299887\n",
            "\n",
            " The best parameters across ALL searched params:\n",
            " {'l2_leaf_reg': 3, 'learning_rate': 0.02, 'max_depth': 8, 'n_estimators': 3000}\n"
          ]
        },
        {
          "name": "stderr",
          "output_type": "stream",
          "text": [
            " 91%|█████████▏| 21/23 [1:53:32<10:41, 320.67s/it]"
          ]
        },
        {
          "name": "stdout",
          "output_type": "stream",
          "text": [
            "Parameter :  ZT49_D\n",
            "best score 2.019547913150948\n",
            "\n",
            " The best parameters across ALL searched params:\n",
            " {'l2_leaf_reg': 9, 'learning_rate': 0.1, 'max_depth': 8, 'n_estimators': 3000}\n"
          ]
        },
        {
          "name": "stderr",
          "output_type": "stream",
          "text": [
            " 96%|█████████▌| 22/23 [1:59:12<05:26, 326.63s/it]"
          ]
        },
        {
          "name": "stdout",
          "output_type": "stream",
          "text": [
            "Parameter :  ZTNAC_D\n",
            "best score 3.628075869533916\n",
            "\n",
            " The best parameters across ALL searched params:\n",
            " {'l2_leaf_reg': 3, 'learning_rate': 0.02, 'max_depth': 8, 'n_estimators': 3000}\n"
          ]
        },
        {
          "name": "stderr",
          "output_type": "stream",
          "text": [
            "100%|██████████| 23/23 [2:04:54<00:00, 325.83s/it]\n"
          ]
        },
        {
          "name": "stdout",
          "output_type": "stream",
          "text": [
            "Parameter :  ZWF36_D\n",
            "best score 26.746497887129017\n",
            "\n",
            " The best parameters across ALL searched params:\n",
            " {'l2_leaf_reg': 3, 'learning_rate': 0.1, 'max_depth': 8, 'n_estimators': 3000}\n",
            "   parameter       score\n",
            "0       BRAT   -0.000275\n",
            "1       DEGT   -1.640156\n",
            "2     DELVSV   -0.000106\n",
            "3      DPOIL   -0.001458\n",
            "4       EGTC   -0.640555\n",
            "5     EGTHDM   -7.057447\n",
            "6     GEGTMC   -1.853825\n",
            "7      GN2MC   -0.003354\n",
            "8     GPCN25   -0.003207\n",
            "9       GWFM   -0.153445\n",
            "10     PCN12   -0.001854\n",
            "11    PCN12I   -0.001854\n",
            "12     PCN1K   -0.008821\n",
            "13     PCN2C   -0.001482\n",
            "14    SLOATL   -0.695763\n",
            "15       WBE   -0.000299\n",
            "16       WBI   -0.000276\n",
            "17      WFMP -153.612130\n",
            "18  ZPCN25_D   -0.001753\n",
            "19    ZT49_D   -2.019548\n",
            "20   ZTNAC_D   -3.628076\n",
            "21   ZWF36_D  -26.746498\n",
            "Dataset :  Xt8e\n"
          ]
        },
        {
          "name": "stderr",
          "output_type": "stream",
          "text": [
            " 10%|█         | 1/10 [07:24<1:06:39, 444.40s/it]"
          ]
        },
        {
          "name": "stdout",
          "output_type": "stream",
          "text": [
            "Parameter :  BRAT\n",
            "best score 2.062257788535098e-05\n",
            "\n",
            " The best parameters across ALL searched params:\n",
            " {'l2_leaf_reg': 3, 'learning_rate': 0.02, 'max_depth': 4, 'n_estimators': 3000}\n"
          ]
        },
        {
          "name": "stderr",
          "output_type": "stream",
          "text": [
            " 20%|██        | 2/10 [16:07<1:05:23, 490.46s/it]"
          ]
        },
        {
          "name": "stdout",
          "output_type": "stream",
          "text": [
            "Parameter :  EGTHDM\n",
            "best score 2.070954527465255\n",
            "\n",
            " The best parameters across ALL searched params:\n",
            " {'l2_leaf_reg': 3, 'learning_rate': 0.1, 'max_depth': 4, 'n_estimators': 3000}\n"
          ]
        },
        {
          "name": "stderr",
          "output_type": "stream",
          "text": [
            " 30%|███       | 3/10 [25:09<1:00:00, 514.37s/it]"
          ]
        },
        {
          "name": "stdout",
          "output_type": "stream",
          "text": [
            "Parameter :  EGTHDM_D\n",
            "best score 19.80256115608745\n",
            "\n",
            " The best parameters across ALL searched params:\n",
            " {'l2_leaf_reg': 9, 'learning_rate': 0.1, 'max_depth': 8, 'n_estimators': 3000}\n"
          ]
        },
        {
          "name": "stderr",
          "output_type": "stream",
          "text": [
            " 40%|████      | 4/10 [33:40<51:16, 512.75s/it]  "
          ]
        },
        {
          "name": "stdout",
          "output_type": "stream",
          "text": [
            "Parameter :  PCN12\n",
            "best score 0.002266167714057943\n",
            "\n",
            " The best parameters across ALL searched params:\n",
            " {'l2_leaf_reg': 3, 'learning_rate': 0.02, 'max_depth': 6, 'n_estimators': 3000}\n"
          ]
        },
        {
          "name": "stderr",
          "output_type": "stream",
          "text": [
            " 50%|█████     | 5/10 [42:49<43:49, 525.82s/it]"
          ]
        },
        {
          "name": "stdout",
          "output_type": "stream",
          "text": [
            "Parameter :  PCN1K\n",
            "best score 0.0018003428641294363\n",
            "\n",
            " The best parameters across ALL searched params:\n",
            " {'l2_leaf_reg': 3, 'learning_rate': 0.1, 'max_depth': 4, 'n_estimators': 3000}\n"
          ]
        },
        {
          "name": "stderr",
          "output_type": "stream",
          "text": [
            " 60%|██████    | 6/10 [51:11<34:30, 517.74s/it]"
          ]
        },
        {
          "name": "stdout",
          "output_type": "stream",
          "text": [
            "Parameter :  SLOATL\n",
            "best score 0.15995375535833473\n",
            "\n",
            " The best parameters across ALL searched params:\n",
            " {'l2_leaf_reg': 3, 'learning_rate': 0.1, 'max_depth': 4, 'n_estimators': 3000}\n"
          ]
        },
        {
          "name": "stderr",
          "output_type": "stream",
          "text": [
            " 70%|███████   | 7/10 [59:17<25:22, 507.48s/it]"
          ]
        },
        {
          "name": "stdout",
          "output_type": "stream",
          "text": [
            "Parameter :  SLOATL_D\n",
            "best score 1.600519126094747\n",
            "\n",
            " The best parameters across ALL searched params:\n",
            " {'l2_leaf_reg': 9, 'learning_rate': 0.1, 'max_depth': 8, 'n_estimators': 3000}\n"
          ]
        },
        {
          "name": "stderr",
          "output_type": "stream",
          "text": [
            " 80%|████████  | 8/10 [1:06:40<16:13, 486.87s/it]"
          ]
        },
        {
          "name": "stdout",
          "output_type": "stream",
          "text": [
            "Parameter :  ZPCN25_D\n",
            "best score 0.003383747800688417\n",
            "\n",
            " The best parameters across ALL searched params:\n",
            " {'l2_leaf_reg': 9, 'learning_rate': 0.1, 'max_depth': 8, 'n_estimators': 3000}\n"
          ]
        },
        {
          "name": "stderr",
          "output_type": "stream",
          "text": [
            " 90%|█████████ | 9/10 [1:13:56<07:51, 471.12s/it]"
          ]
        },
        {
          "name": "stdout",
          "output_type": "stream",
          "text": [
            "Parameter :  ZT49_D\n",
            "best score 17.412095422686708\n",
            "\n",
            " The best parameters across ALL searched params:\n",
            " {'l2_leaf_reg': 9, 'learning_rate': 0.1, 'max_depth': 8, 'n_estimators': 3000}\n"
          ]
        },
        {
          "name": "stderr",
          "output_type": "stream",
          "text": [
            "100%|██████████| 10/10 [1:21:21<00:00, 488.10s/it]\n"
          ]
        },
        {
          "name": "stdout",
          "output_type": "stream",
          "text": [
            "Parameter :  ZWF36_D\n",
            "best score 453.5831592901899\n",
            "\n",
            " The best parameters across ALL searched params:\n",
            " {'l2_leaf_reg': 9, 'learning_rate': 0.1, 'max_depth': 8, 'n_estimators': 3000}\n",
            "  parameter       score\n",
            "0      BRAT   -0.000021\n",
            "1    EGTHDM   -2.070955\n",
            "2  EGTHDM_D  -19.802561\n",
            "3     PCN12   -0.002266\n",
            "4     PCN1K   -0.001800\n",
            "5    SLOATL   -0.159954\n",
            "6  SLOATL_D   -1.600519\n",
            "7  ZPCN25_D   -0.003384\n",
            "8    ZT49_D  -17.412095\n",
            "9   ZWF36_D -453.583159\n",
            "Dataset :  Xc8e\n"
          ]
        },
        {
          "name": "stderr",
          "output_type": "stream",
          "text": [
            "  7%|▋         | 1/15 [10:36<2:28:24, 636.03s/it]"
          ]
        },
        {
          "name": "stdout",
          "output_type": "stream",
          "text": [
            "Parameter :  BRAT\n",
            "best score 5.5901642410505473e-05\n",
            "\n",
            " The best parameters across ALL searched params:\n",
            " {'l2_leaf_reg': 9, 'learning_rate': 0.02, 'max_depth': 4, 'n_estimators': 3000}\n"
          ]
        },
        {
          "name": "stderr",
          "output_type": "stream",
          "text": [
            " 13%|█▎        | 2/15 [18:34<1:57:42, 543.27s/it]"
          ]
        },
        {
          "name": "stdout",
          "output_type": "stream",
          "text": [
            "Parameter :  DEGT\n",
            "best score 2.1680551163229675\n",
            "\n",
            " The best parameters across ALL searched params:\n",
            " {'l2_leaf_reg': 3, 'learning_rate': 0.1, 'max_depth': 4, 'n_estimators': 3000}\n"
          ]
        },
        {
          "name": "stderr",
          "output_type": "stream",
          "text": [
            " 20%|██        | 3/15 [26:17<1:41:19, 506.60s/it]"
          ]
        },
        {
          "name": "stdout",
          "output_type": "stream",
          "text": [
            "Parameter :  EGTC\n",
            "best score 1.3120981611190494\n",
            "\n",
            " The best parameters across ALL searched params:\n",
            " {'l2_leaf_reg': 3, 'learning_rate': 0.1, 'max_depth': 4, 'n_estimators': 3000}\n"
          ]
        },
        {
          "name": "stderr",
          "output_type": "stream",
          "text": [
            " 27%|██▋       | 4/15 [34:26<1:31:36, 499.72s/it]"
          ]
        },
        {
          "name": "stdout",
          "output_type": "stream",
          "text": [
            "Parameter :  GPCN25\n",
            "best score 0.0050142546505624625\n",
            "\n",
            " The best parameters across ALL searched params:\n",
            " {'l2_leaf_reg': 3, 'learning_rate': 0.1, 'max_depth': 6, 'n_estimators': 3000}\n"
          ]
        },
        {
          "name": "stderr",
          "output_type": "stream",
          "text": [
            " 33%|███▎      | 5/15 [43:38<1:26:24, 518.44s/it]"
          ]
        },
        {
          "name": "stdout",
          "output_type": "stream",
          "text": [
            "Parameter :  GWFM\n",
            "best score 0.309807144778219\n",
            "\n",
            " The best parameters across ALL searched params:\n",
            " {'l2_leaf_reg': 3, 'learning_rate': 0.1, 'max_depth': 4, 'n_estimators': 3000}\n"
          ]
        },
        {
          "name": "stderr",
          "output_type": "stream",
          "text": [
            " 40%|████      | 6/15 [53:21<1:21:04, 540.52s/it]"
          ]
        },
        {
          "name": "stdout",
          "output_type": "stream",
          "text": [
            "Parameter :  PCN12\n",
            "best score 0.008055918511044917\n",
            "\n",
            " The best parameters across ALL searched params:\n",
            " {'l2_leaf_reg': 3, 'learning_rate': 0.1, 'max_depth': 4, 'n_estimators': 3000}\n"
          ]
        },
        {
          "name": "stderr",
          "output_type": "stream",
          "text": [
            " 47%|████▋     | 7/15 [1:03:42<1:15:34, 566.85s/it]"
          ]
        },
        {
          "name": "stdout",
          "output_type": "stream",
          "text": [
            "Parameter :  PCN12I\n",
            "best score 0.006486256395002078\n",
            "\n",
            " The best parameters across ALL searched params:\n",
            " {'l2_leaf_reg': 3, 'learning_rate': 0.1, 'max_depth': 4, 'n_estimators': 3000}\n"
          ]
        },
        {
          "name": "stderr",
          "output_type": "stream",
          "text": [
            " 53%|█████▎    | 8/15 [1:14:30<1:09:08, 592.67s/it]"
          ]
        },
        {
          "name": "stdout",
          "output_type": "stream",
          "text": [
            "Parameter :  PCN1K\n",
            "best score 0.008453646078182693\n",
            "\n",
            " The best parameters across ALL searched params:\n",
            " {'l2_leaf_reg': 3, 'learning_rate': 0.1, 'max_depth': 4, 'n_estimators': 3000}\n"
          ]
        },
        {
          "name": "stderr",
          "output_type": "stream",
          "text": [
            " 60%|██████    | 9/15 [1:26:08<1:02:33, 625.65s/it]"
          ]
        },
        {
          "name": "stdout",
          "output_type": "stream",
          "text": [
            "Parameter :  PCN2C\n",
            "best score 0.003148846985283495\n",
            "\n",
            " The best parameters across ALL searched params:\n",
            " {'l2_leaf_reg': 3, 'learning_rate': 0.1, 'max_depth': 4, 'n_estimators': 3000}\n"
          ]
        },
        {
          "name": "stderr",
          "output_type": "stream",
          "text": [
            " 67%|██████▋   | 10/15 [1:37:05<52:56, 635.24s/it] "
          ]
        },
        {
          "name": "stdout",
          "output_type": "stream",
          "text": [
            "Parameter :  WBI\n",
            "best score 5.590208555171615e-05\n",
            "\n",
            " The best parameters across ALL searched params:\n",
            " {'l2_leaf_reg': 9, 'learning_rate': 0.02, 'max_depth': 4, 'n_estimators': 3000}\n"
          ]
        },
        {
          "name": "stderr",
          "output_type": "stream",
          "text": [
            " 73%|███████▎  | 11/15 [1:46:51<41:20, 620.17s/it]"
          ]
        },
        {
          "name": "stdout",
          "output_type": "stream",
          "text": [
            "Parameter :  WFMP\n",
            "best score 73.87827421683272\n",
            "\n",
            " The best parameters across ALL searched params:\n",
            " {'l2_leaf_reg': 3, 'learning_rate': 0.1, 'max_depth': 4, 'n_estimators': 3000}\n"
          ]
        },
        {
          "name": "stderr",
          "output_type": "stream",
          "text": [
            " 80%|████████  | 12/15 [1:58:24<32:06, 642.30s/it]"
          ]
        },
        {
          "name": "stdout",
          "output_type": "stream",
          "text": [
            "Parameter :  ZPCN25_D\n",
            "best score 0.004203210719393878\n",
            "\n",
            " The best parameters across ALL searched params:\n",
            " {'l2_leaf_reg': 9, 'learning_rate': 0.1, 'max_depth': 8, 'n_estimators': 3000}\n"
          ]
        },
        {
          "name": "stderr",
          "output_type": "stream",
          "text": [
            " 87%|████████▋ | 13/15 [2:08:39<21:08, 634.04s/it]"
          ]
        },
        {
          "name": "stdout",
          "output_type": "stream",
          "text": [
            "Parameter :  ZT49_D\n",
            "best score 19.092346338232446\n",
            "\n",
            " The best parameters across ALL searched params:\n",
            " {'l2_leaf_reg': 9, 'learning_rate': 0.1, 'max_depth': 8, 'n_estimators': 3000}\n"
          ]
        },
        {
          "name": "stderr",
          "output_type": "stream",
          "text": [
            " 93%|█████████▎| 14/15 [2:18:12<10:15, 615.74s/it]"
          ]
        },
        {
          "name": "stdout",
          "output_type": "stream",
          "text": [
            "Parameter :  ZTLA_D\n",
            "best score 0.009376431616759136\n",
            "\n",
            " The best parameters across ALL searched params:\n",
            " {'l2_leaf_reg': 3, 'learning_rate': 0.02, 'max_depth': 8, 'n_estimators': 1000}\n"
          ]
        },
        {
          "name": "stderr",
          "output_type": "stream",
          "text": [
            "100%|██████████| 15/15 [2:26:01<00:00, 584.11s/it]\n"
          ]
        },
        {
          "name": "stdout",
          "output_type": "stream",
          "text": [
            "Parameter :  ZWF36_D\n",
            "best score 124.62262047312302\n",
            "\n",
            " The best parameters across ALL searched params:\n",
            " {'l2_leaf_reg': 9, 'learning_rate': 0.1, 'max_depth': 8, 'n_estimators': 3000}\n",
            "   parameter       score\n",
            "0       BRAT   -0.000056\n",
            "1       DEGT   -2.168055\n",
            "2       EGTC   -1.312098\n",
            "3     GPCN25   -0.005014\n",
            "4       GWFM   -0.309807\n",
            "5      PCN12   -0.008056\n",
            "6     PCN12I   -0.006486\n",
            "7      PCN1K   -0.008454\n",
            "8      PCN2C   -0.003149\n",
            "9        WBI   -0.000056\n",
            "10      WFMP  -73.878274\n",
            "11  ZPCN25_D   -0.004203\n",
            "12    ZT49_D  -19.092346\n",
            "13    ZTLA_D   -0.009376\n",
            "14   ZWF36_D -124.622620\n",
            "Dataset :  Xt7\n"
          ]
        },
        {
          "name": "stderr",
          "output_type": "stream",
          "text": [
            "  7%|▋         | 1/14 [06:42<1:27:09, 402.26s/it]"
          ]
        },
        {
          "name": "stdout",
          "output_type": "stream",
          "text": [
            "Parameter :  BRAT\n",
            "best score 1.3839506220990303e-05\n",
            "\n",
            " The best parameters across ALL searched params:\n",
            " {'l2_leaf_reg': 3, 'learning_rate': 0.1, 'max_depth': 4, 'n_estimators': 3000}\n"
          ]
        },
        {
          "name": "stderr",
          "output_type": "stream",
          "text": [
            " 14%|█▍        | 2/14 [13:34<1:21:40, 408.40s/it]"
          ]
        },
        {
          "name": "stdout",
          "output_type": "stream",
          "text": [
            "Parameter :  DELFN\n",
            "best score 0.027828133256660254\n",
            "\n",
            " The best parameters across ALL searched params:\n",
            " {'l2_leaf_reg': 3, 'learning_rate': 0.1, 'max_depth': 4, 'n_estimators': 3000}\n"
          ]
        },
        {
          "name": "stderr",
          "output_type": "stream",
          "text": [
            " 21%|██▏       | 3/14 [20:30<1:15:27, 411.58s/it]"
          ]
        },
        {
          "name": "stdout",
          "output_type": "stream",
          "text": [
            "Parameter :  DELN1\n",
            "best score 0.0056307679158252395\n",
            "\n",
            " The best parameters across ALL searched params:\n",
            " {'l2_leaf_reg': 3, 'learning_rate': 0.1, 'max_depth': 4, 'n_estimators': 3000}\n"
          ]
        },
        {
          "name": "stderr",
          "output_type": "stream",
          "text": [
            " 29%|██▊       | 4/14 [27:38<1:09:41, 418.12s/it]"
          ]
        },
        {
          "name": "stdout",
          "output_type": "stream",
          "text": [
            "Parameter :  EGTHDM\n",
            "best score 2.4580033166697257\n",
            "\n",
            " The best parameters across ALL searched params:\n",
            " {'l2_leaf_reg': 3, 'learning_rate': 0.1, 'max_depth': 4, 'n_estimators': 3000}\n"
          ]
        },
        {
          "name": "stderr",
          "output_type": "stream",
          "text": [
            " 36%|███▌      | 5/14 [35:01<1:04:04, 427.16s/it]"
          ]
        },
        {
          "name": "stdout",
          "output_type": "stream",
          "text": [
            "Parameter :  EGTHDM_D\n",
            "best score 6.210419244029002\n",
            "\n",
            " The best parameters across ALL searched params:\n",
            " {'l2_leaf_reg': 9, 'learning_rate': 0.1, 'max_depth': 8, 'n_estimators': 3000}\n"
          ]
        },
        {
          "name": "stderr",
          "output_type": "stream",
          "text": [
            " 43%|████▎     | 6/14 [42:02<56:39, 424.91s/it]  "
          ]
        },
        {
          "name": "stdout",
          "output_type": "stream",
          "text": [
            "Parameter :  PCN12\n",
            "best score 0.0039538042883051055\n",
            "\n",
            " The best parameters across ALL searched params:\n",
            " {'l2_leaf_reg': 3, 'learning_rate': 0.1, 'max_depth': 4, 'n_estimators': 3000}\n"
          ]
        },
        {
          "name": "stderr",
          "output_type": "stream",
          "text": [
            " 50%|█████     | 7/14 [49:06<49:33, 424.84s/it]"
          ]
        },
        {
          "name": "stdout",
          "output_type": "stream",
          "text": [
            "Parameter :  PCN12I\n",
            "best score 0.0028857394910464626\n",
            "\n",
            " The best parameters across ALL searched params:\n",
            " {'l2_leaf_reg': 9, 'learning_rate': 0.1, 'max_depth': 4, 'n_estimators': 3000}\n"
          ]
        },
        {
          "name": "stderr",
          "output_type": "stream",
          "text": [
            " 57%|█████▋    | 8/14 [56:10<42:25, 424.33s/it]"
          ]
        },
        {
          "name": "stdout",
          "output_type": "stream",
          "text": [
            "Parameter :  PCN1AR\n",
            "best score 0.005734848552541342\n",
            "\n",
            " The best parameters across ALL searched params:\n",
            " {'l2_leaf_reg': 3, 'learning_rate': 0.1, 'max_depth': 4, 'n_estimators': 3000}\n"
          ]
        },
        {
          "name": "stderr",
          "output_type": "stream",
          "text": [
            " 64%|██████▍   | 9/14 [1:03:48<36:14, 435.00s/it]"
          ]
        },
        {
          "name": "stdout",
          "output_type": "stream",
          "text": [
            "Parameter :  PCN1BR\n",
            "best score 0.004288619364213106\n",
            "\n",
            " The best parameters across ALL searched params:\n",
            " {'l2_leaf_reg': 3, 'learning_rate': 0.1, 'max_depth': 4, 'n_estimators': 3000}\n"
          ]
        },
        {
          "name": "stderr",
          "output_type": "stream",
          "text": [
            " 71%|███████▏  | 10/14 [1:11:37<29:41, 445.37s/it]"
          ]
        },
        {
          "name": "stdout",
          "output_type": "stream",
          "text": [
            "Parameter :  PCN1K\n",
            "best score 0.006042028995060331\n",
            "\n",
            " The best parameters across ALL searched params:\n",
            " {'l2_leaf_reg': 3, 'learning_rate': 0.1, 'max_depth': 4, 'n_estimators': 3000}\n"
          ]
        },
        {
          "name": "stderr",
          "output_type": "stream",
          "text": [
            " 79%|███████▊  | 11/14 [1:20:27<23:34, 471.49s/it]"
          ]
        },
        {
          "name": "stdout",
          "output_type": "stream",
          "text": [
            "Parameter :  SLOATL\n",
            "best score 0.24929753051092512\n",
            "\n",
            " The best parameters across ALL searched params:\n",
            " {'l2_leaf_reg': 3, 'learning_rate': 0.1, 'max_depth': 4, 'n_estimators': 3000}\n"
          ]
        },
        {
          "name": "stderr",
          "output_type": "stream",
          "text": [
            " 86%|████████▌ | 12/14 [1:30:32<17:04, 512.05s/it]"
          ]
        },
        {
          "name": "stdout",
          "output_type": "stream",
          "text": [
            "Parameter :  SLOATL_D\n",
            "best score 0.639840283783246\n",
            "\n",
            " The best parameters across ALL searched params:\n",
            " {'l2_leaf_reg': 9, 'learning_rate': 0.1, 'max_depth': 8, 'n_estimators': 3000}\n"
          ]
        },
        {
          "name": "stderr",
          "output_type": "stream",
          "text": [
            " 93%|█████████▎| 13/14 [1:40:21<08:55, 535.20s/it]"
          ]
        },
        {
          "name": "stdout",
          "output_type": "stream",
          "text": [
            "Parameter :  ZPCN25_D\n",
            "best score 0.006453545823268514\n",
            "\n",
            " The best parameters across ALL searched params:\n",
            " {'l2_leaf_reg': 9, 'learning_rate': 0.02, 'max_depth': 8, 'n_estimators': 3000}\n"
          ]
        },
        {
          "name": "stderr",
          "output_type": "stream",
          "text": [
            "100%|██████████| 14/14 [1:49:39<00:00, 469.96s/it]\n"
          ]
        },
        {
          "name": "stdout",
          "output_type": "stream",
          "text": [
            "Parameter :  ZT49_D\n",
            "best score 5.61351919727627\n",
            "\n",
            " The best parameters across ALL searched params:\n",
            " {'l2_leaf_reg': 9, 'learning_rate': 0.1, 'max_depth': 8, 'n_estimators': 3000}\n",
            "   parameter     score\n",
            "0       BRAT -0.000014\n",
            "1      DELFN -0.027828\n",
            "2      DELN1 -0.005631\n",
            "3     EGTHDM -2.458003\n",
            "4   EGTHDM_D -6.210419\n",
            "5      PCN12 -0.003954\n",
            "6     PCN12I -0.002886\n",
            "7     PCN1AR -0.005735\n",
            "8     PCN1BR -0.004289\n",
            "9      PCN1K -0.006042\n",
            "10    SLOATL -0.249298\n",
            "11  SLOATL_D -0.639840\n",
            "12  ZPCN25_D -0.006454\n",
            "13    ZT49_D -5.613519\n",
            "Dataset :  Xc7\n"
          ]
        },
        {
          "name": "stderr",
          "output_type": "stream",
          "text": [
            "  5%|▌         | 1/19 [00:00<00:16,  1.08it/s]"
          ]
        },
        {
          "name": "stdout",
          "output_type": "stream",
          "text": [
            "Skipped... \n",
            "All the 120 fits failed.\n",
            "It is very likely that your model is misconfigured.\n",
            "You can try to debug the error by setting error_score='raise'.\n",
            "\n",
            "Below are more details about the failures:\n",
            "--------------------------------------------------------------------------------\n",
            "120 fits failed with the following error:\n",
            "Traceback (most recent call last):\n",
            "  File \"/opt/homebrew/lib/python3.11/site-packages/sklearn/model_selection/_validation.py\", line 686, in _fit_and_score\n",
            "    estimator.fit(X_train, y_train, **fit_params)\n",
            "  File \"/opt/homebrew/lib/python3.11/site-packages/catboost/core.py\", line 5734, in fit\n",
            "    return self._fit(X, y, cat_features, text_features, embedding_features, None, sample_weight, None, None, None, None, baseline,\n",
            "           ^^^^^^^^^^^^^^^^^^^^^^^^^^^^^^^^^^^^^^^^^^^^^^^^^^^^^^^^^^^^^^^^^^^^^^^^^^^^^^^^^^^^^^^^^^^^^^^^^^^^^^^^^^^^^^^^^^^^^^^\n",
            "  File \"/opt/homebrew/lib/python3.11/site-packages/catboost/core.py\", line 2357, in _fit\n",
            "    self._train(\n",
            "  File \"/opt/homebrew/lib/python3.11/site-packages/catboost/core.py\", line 1761, in _train\n",
            "    self._object._train(train_pool, test_pool, params, allow_clear_pool, init_model._object if init_model else None)\n",
            "  File \"_catboost.pyx\", line 4625, in _catboost._CatBoost._train\n",
            "  File \"_catboost.pyx\", line 4674, in _catboost._CatBoost._train\n",
            "_catboost.CatBoostError: /Users/zomb-ml-platform-msk/go-agent-21.2.0/pipelines/BuildMaster/catboost.git/catboost/libs/metrics/metric.cpp:6487: All train targets are equal\n",
            "\n"
          ]
        },
        {
          "name": "stderr",
          "output_type": "stream",
          "text": [
            " 11%|█         | 2/19 [08:21<1:23:27, 294.56s/it]"
          ]
        },
        {
          "name": "stdout",
          "output_type": "stream",
          "text": [
            "Parameter :  DEGT\n",
            "best score 0.903451199771434\n",
            "\n",
            " The best parameters across ALL searched params:\n",
            " {'l2_leaf_reg': 3, 'learning_rate': 0.1, 'max_depth': 4, 'n_estimators': 3000}\n"
          ]
        },
        {
          "name": "stderr",
          "output_type": "stream",
          "text": [
            " 16%|█▌        | 3/19 [15:10<1:32:32, 347.05s/it]"
          ]
        },
        {
          "name": "stdout",
          "output_type": "stream",
          "text": [
            "Parameter :  DPOIL\n",
            "best score 0.000936966046418909\n",
            "\n",
            " The best parameters across ALL searched params:\n",
            " {'l2_leaf_reg': 3, 'learning_rate': 0.1, 'max_depth': 4, 'n_estimators': 3000}\n"
          ]
        },
        {
          "name": "stderr",
          "output_type": "stream",
          "text": [
            " 21%|██        | 4/19 [22:10<1:33:58, 375.91s/it]"
          ]
        },
        {
          "name": "stdout",
          "output_type": "stream",
          "text": [
            "Parameter :  EGTC\n",
            "best score 0.3178545234265921\n",
            "\n",
            " The best parameters across ALL searched params:\n",
            " {'l2_leaf_reg': 3, 'learning_rate': 0.1, 'max_depth': 4, 'n_estimators': 3000}\n"
          ]
        },
        {
          "name": "stderr",
          "output_type": "stream",
          "text": [
            " 26%|██▋       | 5/19 [28:35<1:28:26, 379.04s/it]"
          ]
        },
        {
          "name": "stdout",
          "output_type": "stream",
          "text": [
            "Parameter :  EGTHDM\n",
            "best score 4.566347281086079\n",
            "\n",
            " The best parameters across ALL searched params:\n",
            " {'l2_leaf_reg': 9, 'learning_rate': 0.1, 'max_depth': 6, 'n_estimators': 3000}\n"
          ]
        },
        {
          "name": "stderr",
          "output_type": "stream",
          "text": [
            " 32%|███▏      | 6/19 [34:55<1:22:13, 379.49s/it]"
          ]
        },
        {
          "name": "stdout",
          "output_type": "stream",
          "text": [
            "Parameter :  GEGTMC\n",
            "best score 0.9143192417526009\n",
            "\n",
            " The best parameters across ALL searched params:\n",
            " {'l2_leaf_reg': 3, 'learning_rate': 0.1, 'max_depth': 4, 'n_estimators': 3000}\n"
          ]
        },
        {
          "name": "stderr",
          "output_type": "stream",
          "text": [
            " 37%|███▋      | 7/19 [41:36<1:17:18, 386.57s/it]"
          ]
        },
        {
          "name": "stdout",
          "output_type": "stream",
          "text": [
            "Parameter :  GN2MC\n",
            "best score 0.0021434560073123436\n",
            "\n",
            " The best parameters across ALL searched params:\n",
            " {'l2_leaf_reg': 3, 'learning_rate': 0.1, 'max_depth': 4, 'n_estimators': 3000}\n"
          ]
        },
        {
          "name": "stderr",
          "output_type": "stream",
          "text": [
            " 42%|████▏     | 8/19 [48:52<1:13:45, 402.29s/it]"
          ]
        },
        {
          "name": "stdout",
          "output_type": "stream",
          "text": [
            "Parameter :  GPCN25\n",
            "best score 0.002110915834684891\n",
            "\n",
            " The best parameters across ALL searched params:\n",
            " {'l2_leaf_reg': 3, 'learning_rate': 0.1, 'max_depth': 4, 'n_estimators': 3000}\n"
          ]
        },
        {
          "name": "stderr",
          "output_type": "stream",
          "text": [
            " 47%|████▋     | 9/19 [56:16<1:09:13, 415.40s/it]"
          ]
        },
        {
          "name": "stdout",
          "output_type": "stream",
          "text": [
            "Parameter :  GWFM\n",
            "best score 0.16120517161957554\n",
            "\n",
            " The best parameters across ALL searched params:\n",
            " {'l2_leaf_reg': 3, 'learning_rate': 0.1, 'max_depth': 6, 'n_estimators': 3000}\n"
          ]
        },
        {
          "name": "stderr",
          "output_type": "stream",
          "text": [
            " 53%|█████▎    | 10/19 [1:02:56<1:01:35, 410.64s/it]"
          ]
        },
        {
          "name": "stdout",
          "output_type": "stream",
          "text": [
            "Parameter :  PCN12\n",
            "best score 0.0014007089926691564\n",
            "\n",
            " The best parameters across ALL searched params:\n",
            " {'l2_leaf_reg': 3, 'learning_rate': 0.1, 'max_depth': 4, 'n_estimators': 3000}\n"
          ]
        },
        {
          "name": "stderr",
          "output_type": "stream",
          "text": [
            " 58%|█████▊    | 11/19 [1:10:08<55:35, 416.89s/it]  "
          ]
        },
        {
          "name": "stdout",
          "output_type": "stream",
          "text": [
            "Parameter :  PCN12I\n",
            "best score 0.0014007089926691564\n",
            "\n",
            " The best parameters across ALL searched params:\n",
            " {'l2_leaf_reg': 3, 'learning_rate': 0.1, 'max_depth': 4, 'n_estimators': 3000}\n"
          ]
        },
        {
          "name": "stderr",
          "output_type": "stream",
          "text": [
            " 63%|██████▎   | 12/19 [1:17:25<49:22, 423.28s/it]"
          ]
        },
        {
          "name": "stdout",
          "output_type": "stream",
          "text": [
            "Parameter :  PCN1K\n",
            "best score 0.0036142613592487854\n",
            "\n",
            " The best parameters across ALL searched params:\n",
            " {'l2_leaf_reg': 3, 'learning_rate': 0.02, 'max_depth': 6, 'n_estimators': 3000}\n"
          ]
        },
        {
          "name": "stderr",
          "output_type": "stream",
          "text": [
            " 68%|██████▊   | 13/19 [1:24:42<42:43, 427.31s/it]"
          ]
        },
        {
          "name": "stdout",
          "output_type": "stream",
          "text": [
            "Parameter :  PCN2C\n",
            "best score 0.0011678592904221657\n",
            "\n",
            " The best parameters across ALL searched params:\n",
            " {'l2_leaf_reg': 3, 'learning_rate': 0.1, 'max_depth': 4, 'n_estimators': 3000}\n"
          ]
        },
        {
          "name": "stderr",
          "output_type": "stream",
          "text": [
            " 74%|███████▎  | 14/19 [1:31:34<35:12, 422.60s/it]"
          ]
        },
        {
          "name": "stdout",
          "output_type": "stream",
          "text": [
            "Parameter :  SLOATL\n",
            "best score 0.38747677139305703\n",
            "\n",
            " The best parameters across ALL searched params:\n",
            " {'l2_leaf_reg': 9, 'learning_rate': 0.1, 'max_depth': 6, 'n_estimators': 3000}\n"
          ]
        },
        {
          "name": "stderr",
          "output_type": "stream",
          "text": [
            " 79%|███████▉  | 15/19 [1:31:34<19:41, 295.41s/it]"
          ]
        },
        {
          "name": "stdout",
          "output_type": "stream",
          "text": [
            "Skipped... \n",
            "All the 120 fits failed.\n",
            "It is very likely that your model is misconfigured.\n",
            "You can try to debug the error by setting error_score='raise'.\n",
            "\n",
            "Below are more details about the failures:\n",
            "--------------------------------------------------------------------------------\n",
            "120 fits failed with the following error:\n",
            "Traceback (most recent call last):\n",
            "  File \"/opt/homebrew/lib/python3.11/site-packages/sklearn/model_selection/_validation.py\", line 686, in _fit_and_score\n",
            "    estimator.fit(X_train, y_train, **fit_params)\n",
            "  File \"/opt/homebrew/lib/python3.11/site-packages/catboost/core.py\", line 5734, in fit\n",
            "    return self._fit(X, y, cat_features, text_features, embedding_features, None, sample_weight, None, None, None, None, baseline,\n",
            "           ^^^^^^^^^^^^^^^^^^^^^^^^^^^^^^^^^^^^^^^^^^^^^^^^^^^^^^^^^^^^^^^^^^^^^^^^^^^^^^^^^^^^^^^^^^^^^^^^^^^^^^^^^^^^^^^^^^^^^^^\n",
            "  File \"/opt/homebrew/lib/python3.11/site-packages/catboost/core.py\", line 2357, in _fit\n",
            "    self._train(\n",
            "  File \"/opt/homebrew/lib/python3.11/site-packages/catboost/core.py\", line 1761, in _train\n",
            "    self._object._train(train_pool, test_pool, params, allow_clear_pool, init_model._object if init_model else None)\n",
            "  File \"_catboost.pyx\", line 4625, in _catboost._CatBoost._train\n",
            "  File \"_catboost.pyx\", line 4674, in _catboost._CatBoost._train\n",
            "_catboost.CatBoostError: /Users/zomb-ml-platform-msk/go-agent-21.2.0/pipelines/BuildMaster/catboost.git/catboost/libs/metrics/metric.cpp:6487: All train targets are equal\n",
            "\n"
          ]
        },
        {
          "name": "stderr",
          "output_type": "stream",
          "text": [
            " 84%|████████▍ | 16/19 [1:37:53<16:01, 320.45s/it]"
          ]
        },
        {
          "name": "stdout",
          "output_type": "stream",
          "text": [
            "Parameter :  WFMP\n",
            "best score 121.42075419510157\n",
            "\n",
            " The best parameters across ALL searched params:\n",
            " {'l2_leaf_reg': 3, 'learning_rate': 0.1, 'max_depth': 4, 'n_estimators': 3000}\n"
          ]
        },
        {
          "name": "stderr",
          "output_type": "stream",
          "text": [
            " 89%|████████▉ | 17/19 [1:44:15<11:17, 338.83s/it]"
          ]
        },
        {
          "name": "stdout",
          "output_type": "stream",
          "text": [
            "Parameter :  ZPCN25_D\n",
            "best score 0.0023545501501672688\n",
            "\n",
            " The best parameters across ALL searched params:\n",
            " {'l2_leaf_reg': 3, 'learning_rate': 0.02, 'max_depth': 8, 'n_estimators': 1000}\n"
          ]
        },
        {
          "name": "stderr",
          "output_type": "stream",
          "text": [
            " 95%|█████████▍| 18/19 [1:50:43<05:53, 353.82s/it]"
          ]
        },
        {
          "name": "stdout",
          "output_type": "stream",
          "text": [
            "Parameter :  ZT49_D\n",
            "best score 5.891693115845143\n",
            "\n",
            " The best parameters across ALL searched params:\n",
            " {'l2_leaf_reg': 3, 'learning_rate': 0.02, 'max_depth': 8, 'n_estimators': 3000}\n"
          ]
        },
        {
          "name": "stderr",
          "output_type": "stream",
          "text": [
            "100%|██████████| 19/19 [1:57:12<00:00, 370.14s/it]"
          ]
        },
        {
          "name": "stdout",
          "output_type": "stream",
          "text": [
            "Parameter :  ZWF36_D\n",
            "best score 64.32256504265925\n",
            "\n",
            " The best parameters across ALL searched params:\n",
            " {'l2_leaf_reg': 9, 'learning_rate': 0.02, 'max_depth': 8, 'n_estimators': 3000}\n",
            "   parameter       score\n",
            "0       DEGT   -0.903451\n",
            "1      DPOIL   -0.000937\n",
            "2       EGTC   -0.317855\n",
            "3     EGTHDM   -4.566347\n",
            "4     GEGTMC   -0.914319\n",
            "5      GN2MC   -0.002143\n",
            "6     GPCN25   -0.002111\n",
            "7       GWFM   -0.161205\n",
            "8      PCN12   -0.001401\n",
            "9     PCN12I   -0.001401\n",
            "10     PCN1K   -0.003614\n",
            "11     PCN2C   -0.001168\n",
            "12    SLOATL   -0.387477\n",
            "13      WFMP -121.420754\n",
            "14  ZPCN25_D   -0.002355\n",
            "15    ZT49_D   -5.891693\n",
            "16   ZWF36_D  -64.322565\n"
          ]
        },
        {
          "name": "stderr",
          "output_type": "stream",
          "text": [
            "\n"
          ]
        }
      ],
      "source": [
        "for i in range(6):\n",
        "  print('Dataset : ', Xnames[i])\n",
        "  scores = pd.DataFrame(columns=[\"parameter\", \"score\"])\n",
        "  exec(f\"output_parameters = {ynames[i]}.columns.drop(['flight_datetime', 'flight_phase', 'engine_id'])\")\n",
        "\n",
        "  for param in tqdm(output_parameters):\n",
        "      try:\n",
        "          score = cbc_score(param, XObjs[i], yObjs[i])\n",
        "          scores.loc[len(scores)] = [param, score[0]] \n",
        "          #print(score[1]\n",
        "          with open(f\"{Xnames[i]}_{param}.pkl\", 'wb') as f:\n",
        "            count_bytes = pickle.dump(score[1], f)\n",
        "      except Exception as e:\n",
        "          print(f'Skipped... {e}')\n",
        "          continue\n",
        "  print(scores)"
      ]
    },
    {
      "cell_type": "code",
      "execution_count": 49,
      "id": "obXMBQdx8EJV",
      "metadata": {
        "id": "obXMBQdx8EJV"
      },
      "outputs": [
        {
          "ename": "FileNotFoundError",
          "evalue": "[Errno 2] No such file or directory: '/content/best_models/Xt5b_BRAT.pkl'",
          "output_type": "error",
          "traceback": [
            "\u001b[0;31m---------------------------------------------------------------------------\u001b[0m",
            "\u001b[0;31mFileNotFoundError\u001b[0m                         Traceback (most recent call last)",
            "Cell \u001b[0;32mIn[49], line 1\u001b[0m\n\u001b[0;32m----> 1\u001b[0m \u001b[38;5;28;01mwith\u001b[39;00m \u001b[38;5;28;43mopen\u001b[39;49m\u001b[43m(\u001b[49m\u001b[38;5;124;43m'\u001b[39;49m\u001b[38;5;124;43m/content/best_models/Xt5b_BRAT.pkl\u001b[39;49m\u001b[38;5;124;43m'\u001b[39;49m\u001b[43m,\u001b[49m\u001b[38;5;124;43m'\u001b[39;49m\u001b[38;5;124;43mrb\u001b[39;49m\u001b[38;5;124;43m'\u001b[39;49m\u001b[43m)\u001b[49m \u001b[38;5;28;01mas\u001b[39;00m file:\n\u001b[1;32m      2\u001b[0m         model \u001b[38;5;241m=\u001b[39m pickle\u001b[38;5;241m.\u001b[39mload(file)\n",
            "File \u001b[0;32m~/Library/Python/3.11/lib/python/site-packages/IPython/core/interactiveshell.py:284\u001b[0m, in \u001b[0;36m_modified_open\u001b[0;34m(file, *args, **kwargs)\u001b[0m\n\u001b[1;32m    277\u001b[0m \u001b[39mif\u001b[39;00m file \u001b[39min\u001b[39;00m {\u001b[39m0\u001b[39m, \u001b[39m1\u001b[39m, \u001b[39m2\u001b[39m}:\n\u001b[1;32m    278\u001b[0m     \u001b[39mraise\u001b[39;00m \u001b[39mValueError\u001b[39;00m(\n\u001b[1;32m    279\u001b[0m         \u001b[39mf\u001b[39m\u001b[39m\"\u001b[39m\u001b[39mIPython won\u001b[39m\u001b[39m'\u001b[39m\u001b[39mt let you open fd=\u001b[39m\u001b[39m{\u001b[39;00mfile\u001b[39m}\u001b[39;00m\u001b[39m by default \u001b[39m\u001b[39m\"\u001b[39m\n\u001b[1;32m    280\u001b[0m         \u001b[39m\"\u001b[39m\u001b[39mas it is likely to crash IPython. If you know what you are doing, \u001b[39m\u001b[39m\"\u001b[39m\n\u001b[1;32m    281\u001b[0m         \u001b[39m\"\u001b[39m\u001b[39myou can use builtins\u001b[39m\u001b[39m'\u001b[39m\u001b[39m open.\u001b[39m\u001b[39m\"\u001b[39m\n\u001b[1;32m    282\u001b[0m     )\n\u001b[0;32m--> 284\u001b[0m \u001b[39mreturn\u001b[39;00m io_open(file, \u001b[39m*\u001b[39;49margs, \u001b[39m*\u001b[39;49m\u001b[39m*\u001b[39;49mkwargs)\n",
            "\u001b[0;31mFileNotFoundError\u001b[0m: [Errno 2] No such file or directory: '/content/best_models/Xt5b_BRAT.pkl'"
          ]
        }
      ],
      "source": [
        "with open('/content/best_models/Xt5b_BRAT.pkl','rb') as file:\n",
        "        model = pickle.load(file)"
      ]
    },
    {
      "cell_type": "code",
      "execution_count": null,
      "id": "KhtGkzOvAGTi",
      "metadata": {
        "id": "KhtGkzOvAGTi"
      },
      "outputs": [],
      "source": [
        "model.predict(Xt5b)"
      ]
    },
    {
      "cell_type": "code",
      "execution_count": null,
      "id": "ITOKaPzh9bh7",
      "metadata": {
        "id": "ITOKaPzh9bh7"
      },
      "outputs": [],
      "source": [
        "!zip -r weights.zip best_models"
      ]
    }
  ],
  "metadata": {
    "colab": {
      "provenance": []
    },
    "gpuClass": "standard",
    "kernelspec": {
      "display_name": "Python 3.11.1 64-bit",
      "language": "python",
      "name": "python3"
    },
    "language_info": {
      "codemirror_mode": {
        "name": "ipython",
        "version": 3
      },
      "file_extension": ".py",
      "mimetype": "text/x-python",
      "name": "python",
      "nbconvert_exporter": "python",
      "pygments_lexer": "ipython3",
      "version": "3.11.1"
    },
    "vscode": {
      "interpreter": {
        "hash": "5c7b89af1651d0b8571dde13640ecdccf7d5a6204171d6ab33e7c296e100e08a"
      }
    }
  },
  "nbformat": 4,
  "nbformat_minor": 5
}
