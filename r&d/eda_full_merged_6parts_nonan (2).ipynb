{
  "nbformat": 4,
  "nbformat_minor": 0,
  "metadata": {
    "colab": {
      "provenance": []
    },
    "kernelspec": {
      "name": "python3",
      "display_name": "Python 3"
    },
    "language_info": {
      "name": "python"
    }
  },
  "cells": [
    {
      "cell_type": "code",
      "execution_count": 1,
      "metadata": {
        "id": "IZT7WFMQVAsI",
        "colab": {
          "base_uri": "https://localhost:8080/"
        },
        "outputId": "c03757fc-7e74-481c-d7c9-c3fedb635c07"
      },
      "outputs": [
        {
          "output_type": "stream",
          "name": "stderr",
          "text": [
            "<ipython-input-1-b0cd84ff891f>:6: DeprecationWarning: `import pandas_profiling` is going to be deprecated by April 1st. Please use `import ydata_profiling` instead.\n",
            "  import pandas_profiling\n"
          ]
        }
      ],
      "source": [
        "import numpy as np\n",
        "import pandas as pd\n",
        "import matplotlib.pyplot as plt\n",
        "import seaborn as sns\n",
        "from tqdm import tqdm \n",
        "import pandas_profiling\n",
        "import warnings\n",
        "warnings.filterwarnings(\"ignore\")\n",
        "from sklearn.model_selection import train_test_split\n",
        "from sklearn.metrics import mean_squared_error, mean_absolute_error, mean_absolute_percentage_error\n",
        "from catboost import CatBoostRegressor\n",
        "\n",
        "pd.set_option('display.max_columns', 200)"
      ]
    },
    {
      "cell_type": "code",
      "source": [
        "X = pd.read_csv('/content/X.csv')\n",
        "y = pd.read_csv('/content/y.csv')\n",
        "X['ZTAMB'] = 40 / 21 * (X['ZTAMB'] - 7.5)\n",
        "merged = X.merge(y)"
      ],
      "metadata": {
        "id": "wTm1xuisVQNG"
      },
      "execution_count": 2,
      "outputs": []
    },
    {
      "cell_type": "code",
      "source": [
        "#Merged Data\n",
        "Mt5b = merged[merged['flight_phase'] == 'TAKEOFF']\n",
        "Mt5b = Mt5b[Mt5b['engine_family'] == 'CFM56-5B']\n",
        "\n",
        "Mc5b = merged[merged['flight_phase'] == 'CRUISE']\n",
        "Mc5b = Mc5b[Mc5b['engine_family'] == 'CFM56-5B']\n",
        "\n",
        "Mt8e = merged[merged['flight_phase'] == 'TAKEOFF']\n",
        "Mt8e = Mt8e[Mt8e['engine_family'] == 'CF34-8E']\n",
        "\n",
        "Mc8e = merged[merged['flight_phase'] == 'CRUISE']\n",
        "Mc8e = Mc8e[Mc8e['engine_family'] == 'CF34-8E']\n",
        "\n",
        "Mt7 = merged[merged['flight_phase'] == 'TAKEOFF']\n",
        "Mt7 = Mt7[Mt7['engine_family'] == 'CFM56-7']\n",
        "\n",
        "Mc7 = merged[merged['flight_phase'] == 'CRUISE']\n",
        "Mc7 = Mc7[Mc7['engine_family'] == 'CFM56-7']\n",
        "\n",
        "#Split for X and y for engine_type and flight_phase\n",
        "\n",
        "col = [0, 2, 3]\n",
        "for i in range(53, len(Mc7.columns)):\n",
        "  col.append(i)\n",
        "\n",
        "Xt5b = Mt5b.iloc[:,:-30]\n",
        "yt5b = Mt5b.iloc[:,col]\n",
        "\n",
        "Xc5b = Mc5b.iloc[:,:-30]\n",
        "yc5b = Mc5b.iloc[:,col]\n",
        "\n",
        "Xt8e = Mt8e.iloc[:,:-30]\n",
        "yt8e = Mt8e.iloc[:,col]\n",
        "\n",
        "Xc8e = Mc8e.iloc[:,:-30]\n",
        "yc8e = Mc8e.iloc[:,col]\n",
        "\n",
        "Xt7 = Mt7.iloc[:,:-30]\n",
        "yt7 = Mt7.iloc[:,col]\n",
        "\n",
        "Xc7 = Mc7.iloc[:,:-30]\n",
        "yc7 = Mc7.iloc[:,col]"
      ],
      "metadata": {
        "id": "zWiVO8qPVtef"
      },
      "execution_count": 3,
      "outputs": []
    },
    {
      "cell_type": "code",
      "source": [
        "Mnames = ['Mt7', 'Mc7', 'Mt8e','Mc8e', 'Mt5b', 'Mc5b']\n",
        "for i in range(len(Mnames)):\n",
        "  exec(f\"{Mnames[i]}.dropna(axis='columns',how='all', inplace=True)\")\n",
        "  exec(f'profile = {Mnames[i]}.profile_report()')\n",
        "  exec(f'profile.to_file(\"{Mnames[i]}.html\")')"
      ],
      "metadata": {
        "id": "thOlZ-ftDZN5"
      },
      "execution_count": 4,
      "outputs": []
    }
  ]
}