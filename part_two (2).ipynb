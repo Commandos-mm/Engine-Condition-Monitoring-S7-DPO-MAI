{
 "cells": [
  {
   "cell_type": "code",
   "execution_count": 1,
   "id": "259918dd-6b3b-431f-b052-b5125f65dc79",
   "metadata": {
    "execution": {
     "iopub.execute_input": "2023-06-13T08:43:07.709888Z",
     "iopub.status.busy": "2023-06-13T08:43:07.709273Z",
     "iopub.status.idle": "2023-06-13T08:43:08.615100Z",
     "shell.execute_reply": "2023-06-13T08:43:08.613553Z",
     "shell.execute_reply.started": "2023-06-13T08:43:07.709864Z"
    },
    "tags": []
   },
   "outputs": [],
   "source": [
    "import pandas as pd\n",
    "import numpy as np\n",
    "import matplotlib.pyplot as plt\n",
    "import seaborn as sns\n",
    "import matplotlib.pyplot as plt\n",
    "\n",
    "%matplotlib inline\n",
    "pd.set_option('display.max_columns', 200)"
   ]
  },
  {
   "cell_type": "code",
   "execution_count": 2,
   "id": "b0c1cf6f-d843-4d77-aebd-349231e0365a",
   "metadata": {
    "execution": {
     "iopub.execute_input": "2023-06-13T08:43:08.617832Z",
     "iopub.status.busy": "2023-06-13T08:43:08.616551Z",
     "iopub.status.idle": "2023-06-13T08:43:09.761833Z",
     "shell.execute_reply": "2023-06-13T08:43:09.761052Z",
     "shell.execute_reply.started": "2023-06-13T08:43:08.617805Z"
    },
    "tags": []
   },
   "outputs": [],
   "source": [
    "X_train_dataset = pd.read_csv(\"X.csv\")\n",
    "y_train_dataset = pd.read_csv(\"y.csv\")\n",
    "df = pd.merge(X_train_dataset, y_train_dataset, on=[\"engine_id\", \"flight_datetime\", \"flight_phase\"])"
   ]
  },
  {
   "cell_type": "code",
   "execution_count": 3,
   "id": "bb7a9517-3245-4788-86cb-3abfb284ef73",
   "metadata": {
    "execution": {
     "iopub.execute_input": "2023-06-13T08:43:09.762666Z",
     "iopub.status.busy": "2023-06-13T08:43:09.762503Z",
     "iopub.status.idle": "2023-06-13T08:43:09.772911Z",
     "shell.execute_reply": "2023-06-13T08:43:09.771515Z",
     "shell.execute_reply.started": "2023-06-13T08:43:09.762652Z"
    },
    "tags": []
   },
   "outputs": [
    {
     "data": {
      "text/plain": [
       "array(['CFM56-5B', 'CF34-8E', 'CFM56-7'], dtype=object)"
      ]
     },
     "execution_count": 3,
     "metadata": {},
     "output_type": "execute_result"
    }
   ],
   "source": [
    "df['engine_family'].unique()"
   ]
  },
  {
   "cell_type": "code",
   "execution_count": 4,
   "id": "318cc911-45f3-4f9b-8db2-9eada3b9564c",
   "metadata": {
    "execution": {
     "iopub.execute_input": "2023-06-13T08:43:09.775273Z",
     "iopub.status.busy": "2023-06-13T08:43:09.774510Z",
     "iopub.status.idle": "2023-06-13T08:43:09.787963Z",
     "shell.execute_reply": "2023-06-13T08:43:09.786954Z",
     "shell.execute_reply.started": "2023-06-13T08:43:09.775238Z"
    },
    "tags": []
   },
   "outputs": [
    {
     "data": {
      "text/plain": [
       "array(['CFM56-5B4', 'CF34-8E5', 'CFM56-7B27/B1', 'CFM56-7B26',\n",
       "       'CFM56-5B3'], dtype=object)"
      ]
     },
     "execution_count": 4,
     "metadata": {},
     "output_type": "execute_result"
    }
   ],
   "source": [
    "df['engine_type'].unique()"
   ]
  },
  {
   "cell_type": "markdown",
   "id": "146021b7-981e-4431-9c38-9fe84544b920",
   "metadata": {
    "execution": {
     "iopub.execute_input": "2023-06-04T09:22:40.458008Z",
     "iopub.status.busy": "2023-06-04T09:22:40.457595Z",
     "iopub.status.idle": "2023-06-04T09:22:40.464379Z",
     "shell.execute_reply": "2023-06-04T09:22:40.463018Z",
     "shell.execute_reply.started": "2023-06-04T09:22:40.457982Z"
    },
    "tags": []
   },
   "source": [
    "### Mechanical problems\n",
    "\n",
    "#### CFM56-2/-3/-5A/-5B/-7 Theoretical Parameter Shifts\n",
    "\n",
    "Problem names:\n",
    "\n",
    "- p1: **VSV closed $2^\\circ$**\n",
    "\n",
    "- p2: **VSV open $2^\\circ$**\n",
    "\n",
    "- p3: **VBV open $10^\\circ$**\n",
    "\n",
    "- p4: **+1%W25 9th stg customer bleed (leakage)**\n",
    "\n",
    "- p5: **+1%W25 5th stg customer bleed (leakage)**\n",
    "\n",
    "- p6: **+1%W25 5th stg bleed (LPT Cooling, HPTACC)**\n",
    "\n",
    "- p7: **+1%W25 9th stg bleed (CDP/4T Seals, HPTACC)**\n",
    "\n",
    "- p8: **-0.5%W13 decrease (Dirty Fan blades)**\n",
    "\n",
    "- p9: **-1pt FAN efficiency**\n",
    "\n",
    "- p10: **-1pt Booster efficiency**\n",
    "\n",
    "- p11: **-1pt HPC efficiency**\n",
    "\n",
    "- p12: **-1pt HPT efficiency**\n",
    "\n",
    "- p13: **-1pt LPT efficiency**\n",
    "\n",
    "Parameters used:\n",
    "\n",
    "- DEGT: EGT deviation from baseline\n",
    "- GWFM: Fuel flow deviation from baseline\n",
    "- GPCN25: Core speed deviation from baseline\n"
   ]
  },
  {
   "cell_type": "code",
   "execution_count": 5,
   "id": "657ff833-a0ad-46f8-a1d5-3c19ce80d131",
   "metadata": {
    "execution": {
     "iopub.execute_input": "2023-06-13T08:43:11.569904Z",
     "iopub.status.busy": "2023-06-13T08:43:11.569473Z",
     "iopub.status.idle": "2023-06-13T08:43:11.582510Z",
     "shell.execute_reply": "2023-06-13T08:43:11.580897Z",
     "shell.execute_reply.started": "2023-06-13T08:43:11.569871Z"
    },
    "tags": []
   },
   "outputs": [],
   "source": [
    "mechanical_problem = {\n",
    "    'p1': [(0.0, 4.0), (0.0, 0.3), (0.0, 1.0)],\n",
    "    'p2': [(-1.0, 0.0), (0.0, 0.0), (-1.2, 0.0)],\n",
    "    'p3': [(0.0, 11.0), (0.0, 1.0), (0.0, 0.1)],\n",
    "    'p4': [(0.0, 10.0), (0.0, 1.3), (0.0, 0.2)],\n",
    "    'p5': [(0.0, 9.0), (0.0, 0.8), (0.0, 0.2)],\n",
    "    'p6': [(0.0, 2.0), (0.0, 0.2), (-0.4, 0.0)],\n",
    "    'p7': [(0.0, 6.0), (0.0, 0.5), (-0.8, 0.0)],\n",
    "    'p8': [(-10.0, 0.0), (-2.0, 0.0), (-0.9, 0.0)],\n",
    "    'p9': [(0.0, 6.0), (0.0, 1.3), (0.0, 0.7)],\n",
    "    'p10': [(0.0, 4.0), (0.0, 0.4), (0.0, 0.1)],\n",
    "    'p11': [(0.0, 6.0), (0.0, 0.6), (-0.8, 0.0)],\n",
    "    'p12': [(0.0, 8.0), (0.0, 0.8), (-1.0, 0.0)],\n",
    "    'p13': [(0.0, 8.0), (0.0, 1.7), (0.0, 0.8)],\n",
    "}\n",
    "\n",
    "full_names = {\n",
    "    'p1': 'VSV closed 2',\n",
    "    'p2': 'VSV open 2',\n",
    "    'p3': 'VBV open 10',\n",
    "    'p4': '+1%W25 9th stg customer bleed (leakage)',\n",
    "    'p5': '+1%W25 5th stg customer bleed (leakage)',\n",
    "    'p6': '+1%W25 5th stg bleed (LPT Cooling, HPTACC)',\n",
    "    'p7': '+1%W25 9th stg bleed (CDP/4T Seals, HPTACC)',\n",
    "    'p8': '-0.5%W13 decrease (Dirty Fan blades)',\n",
    "    'p9': '-1pt FAN efficiency',\n",
    "    'p10': '-1pt Booster efficiency',\n",
    "    'p11': '-1pt HPC efficiency',\n",
    "    'p12': '-1pt HPT efficiency',\n",
    "    'p13': '-1pt LPT efficiency'\n",
    "}"
   ]
  },
  {
   "cell_type": "code",
   "execution_count": 7,
   "id": "95b4d3fc-bcf2-423f-9b82-ec82024885cb",
   "metadata": {
    "execution": {
     "iopub.execute_input": "2023-06-13T08:43:38.388705Z",
     "iopub.status.busy": "2023-06-13T08:43:38.388425Z",
     "iopub.status.idle": "2023-06-13T08:43:38.397999Z",
     "shell.execute_reply": "2023-06-13T08:43:38.397022Z",
     "shell.execute_reply.started": "2023-06-13T08:43:38.388687Z"
    },
    "tags": []
   },
   "outputs": [],
   "source": [
    "def check_condition(data: pd.DataFrame, intervals: list):\n",
    "    \"\"\"\n",
    "    Функция выполняет проверку трех условий для параметров из DataFrame.\n",
    "\n",
    "    Параметры:\n",
    "        - data (pd.DataFrame): DataFrame, на основе которого будет выполняться проверка.\n",
    "        - intervals (list): Список интервалов, содержащий значения верхней и нижней границ для каждого из параметров.\n",
    "\n",
    "    Возвращает:\n",
    "        - list: Список индексов строк, удовлетворяющих условиям.\n",
    "\n",
    "    \"\"\"\n",
    "    problem = data.copy()\n",
    "    for param, interval in zip([\"DEGT\", \"GWFM\", \"GPCN25\"], intervals):\n",
    "        problem = problem[(problem[param] >= interval[0]) & (problem[param] <= interval[1])]\n",
    "    return list(problem.index)\n",
    "\n",
    "def check_problem(target_engine_id: str, target_aircraft_id: str, df: pd.DataFrame, mechanical_problem: dict):\n",
    "    \"\"\"\n",
    "    Функция проверяет выполнение условий проблем для заданного двигателя и воздушного судна.\n",
    "\n",
    "    Параметры:\n",
    "        - target_engine_id (str): Идентификатор целевого двигателя.\n",
    "        - target_aircraft_id (str): Идентификатор целевого воздушного судна.\n",
    "        - df (pd.DataFrame): DataFrame, содержащий данные о двигателях и воздушных судах.\n",
    "        - mechanical_problem (dict): Словарь, содержащий проблемы и соответствующие им интервалы значений параметров.\n",
    "\n",
    "    Возвращает:\n",
    "        - dict: Словарь, где ключи соответствуют проблемам, а значения - спискам индексов строк, удовлетворяющих условиям.\n",
    "\n",
    "    \"\"\"\n",
    "    target_data = df.loc[(df['engine_id'] == target_engine_id) & (df['aircraft_id'] == target_aircraft_id)].sort_values('flight_datetime')\n",
    "    results = {p: [] for p in mechanical_problem.keys()}\n",
    "    \n",
    "    for problem, intervals in mechanical_problem.items():\n",
    "        results[problem].extend(check_condition(target_data, intervals))\n",
    "    return results\n",
    "\n",
    "def find_all_mech_problem(df: pd.DataFrame, mechanical_problem: dict):\n",
    "    \"\"\"\n",
    "    Функция находит все механические проблемы в DataFrame для всех уникальных пар двигатель-воздушное судно.\n",
    "\n",
    "    Параметры:\n",
    "        - df (pd.DataFrame): DataFrame, содержащий данные о двигателях, воздушных судах и их параметрах.\n",
    "        - mechanical_problem (dict): Словарь, содержащий проблемы и соответствующие им интервалы значений параметров.\n",
    "\n",
    "    Возвращает:\n",
    "        - pd.DataFrame: DataFrame с результатами, содержащими идентификаторы двигателя и воздушного судна, параметры, проблемы и соответствующие индексы строк.\n",
    "\n",
    "    \"\"\"\n",
    "    unique_pairs = df[['engine_id', 'aircraft_id']].drop_duplicates()\n",
    "    \n",
    "    results = {\n",
    "        'engine_id': [],\n",
    "        'aircraft_id': [],\n",
    "        'DEGT': [],\n",
    "        'GWFM': [],\n",
    "        'GPCN25': [],\n",
    "        'engine_family': [],\n",
    "        'engine_type': [],\n",
    "        'problem_name': [],\n",
    "        'main_id': []\n",
    "    }\n",
    "    \n",
    "    for engine_id, aircraft_id in zip(unique_pairs['engine_id'], unique_pairs['aircraft_id']):\n",
    "        current = check_problem(engine_id, aircraft_id, df, mechanical_problem)\n",
    "        for problem in current.keys():\n",
    "            for ind in current[problem]:\n",
    "                results['engine_id'].append(engine_id)\n",
    "                results['aircraft_id'].append(aircraft_id)\n",
    "                results['DEGT'].append(df.iloc[ind]['DEGT'])\n",
    "                results['GWFM'].append(df.iloc[ind]['GWFM'])\n",
    "                results['GPCN25'].append(df.iloc[ind]['GPCN25'])\n",
    "                results['engine_family'].append(df.iloc[ind]['engine_family'])\n",
    "                results['engine_type'].append(df.iloc[ind]['engine_type'])\n",
    "                results['problem_name'].append(full_names[problem])\n",
    "                results['main_id'].append(ind)  \n",
    "    return pd.DataFrame(results)"
   ]
  },
  {
   "cell_type": "code",
   "execution_count": 8,
   "id": "18ba48b0-be29-4145-bcdd-9f57766d5ba4",
   "metadata": {
    "execution": {
     "iopub.execute_input": "2023-06-13T08:43:40.624899Z",
     "iopub.status.busy": "2023-06-13T08:43:40.624415Z",
     "iopub.status.idle": "2023-06-13T08:43:44.646931Z",
     "shell.execute_reply": "2023-06-13T08:43:44.645787Z",
     "shell.execute_reply.started": "2023-06-13T08:43:40.624864Z"
    },
    "tags": []
   },
   "outputs": [],
   "source": [
    "problem = find_all_mech_problem(df, mechanical_problem)"
   ]
  },
  {
   "cell_type": "code",
   "execution_count": 9,
   "id": "eaeec4df-c98a-4252-bb71-0db4cde60799",
   "metadata": {
    "execution": {
     "iopub.execute_input": "2023-06-13T08:43:44.648135Z",
     "iopub.status.busy": "2023-06-13T08:43:44.647952Z",
     "iopub.status.idle": "2023-06-13T08:43:44.662816Z",
     "shell.execute_reply": "2023-06-13T08:43:44.662300Z",
     "shell.execute_reply.started": "2023-06-13T08:43:44.648119Z"
    },
    "tags": []
   },
   "outputs": [
    {
     "data": {
      "text/html": [
       "<div>\n",
       "<style scoped>\n",
       "    .dataframe tbody tr th:only-of-type {\n",
       "        vertical-align: middle;\n",
       "    }\n",
       "\n",
       "    .dataframe tbody tr th {\n",
       "        vertical-align: top;\n",
       "    }\n",
       "\n",
       "    .dataframe thead th {\n",
       "        text-align: right;\n",
       "    }\n",
       "</style>\n",
       "<table border=\"1\" class=\"dataframe\">\n",
       "  <thead>\n",
       "    <tr style=\"text-align: right;\">\n",
       "      <th></th>\n",
       "      <th>engine_id</th>\n",
       "      <th>aircraft_id</th>\n",
       "      <th>DEGT</th>\n",
       "      <th>GWFM</th>\n",
       "      <th>GPCN25</th>\n",
       "      <th>engine_family</th>\n",
       "      <th>engine_type</th>\n",
       "      <th>problem_name</th>\n",
       "      <th>main_id</th>\n",
       "    </tr>\n",
       "  </thead>\n",
       "  <tbody>\n",
       "    <tr>\n",
       "      <th>0</th>\n",
       "      <td>6dc714d821a73d97c06143281b622c4e45c791985425c8...</td>\n",
       "      <td>31baf613cc66c483d5576812d060e54d64275325be437f...</td>\n",
       "      <td>4.137451</td>\n",
       "      <td>1.009322</td>\n",
       "      <td>0.170869</td>\n",
       "      <td>CF34-8E</td>\n",
       "      <td>CF34-8E5</td>\n",
       "      <td>+1%W25 9th stg customer bleed (leakage)</td>\n",
       "      <td>48365</td>\n",
       "    </tr>\n",
       "    <tr>\n",
       "      <th>1</th>\n",
       "      <td>6dc714d821a73d97c06143281b622c4e45c791985425c8...</td>\n",
       "      <td>31baf613cc66c483d5576812d060e54d64275325be437f...</td>\n",
       "      <td>4.137451</td>\n",
       "      <td>1.009322</td>\n",
       "      <td>0.170869</td>\n",
       "      <td>CF34-8E</td>\n",
       "      <td>CF34-8E5</td>\n",
       "      <td>-1pt FAN efficiency</td>\n",
       "      <td>48365</td>\n",
       "    </tr>\n",
       "    <tr>\n",
       "      <th>2</th>\n",
       "      <td>6dc714d821a73d97c06143281b622c4e45c791985425c8...</td>\n",
       "      <td>31baf613cc66c483d5576812d060e54d64275325be437f...</td>\n",
       "      <td>4.137451</td>\n",
       "      <td>1.009322</td>\n",
       "      <td>0.170869</td>\n",
       "      <td>CF34-8E</td>\n",
       "      <td>CF34-8E5</td>\n",
       "      <td>-1pt LPT efficiency</td>\n",
       "      <td>48365</td>\n",
       "    </tr>\n",
       "    <tr>\n",
       "      <th>3</th>\n",
       "      <td>17347326abdfbcd8acc523a9069dba5f770f1f65ca9b21...</td>\n",
       "      <td>ac5a9ee6985da1ed0780c817d7ac0cc5ec571d9c55f56c...</td>\n",
       "      <td>3.963135</td>\n",
       "      <td>0.620057</td>\n",
       "      <td>0.042544</td>\n",
       "      <td>CF34-8E</td>\n",
       "      <td>CF34-8E5</td>\n",
       "      <td>VBV open 10</td>\n",
       "      <td>20026</td>\n",
       "    </tr>\n",
       "    <tr>\n",
       "      <th>4</th>\n",
       "      <td>17347326abdfbcd8acc523a9069dba5f770f1f65ca9b21...</td>\n",
       "      <td>ac5a9ee6985da1ed0780c817d7ac0cc5ec571d9c55f56c...</td>\n",
       "      <td>4.475220</td>\n",
       "      <td>0.797171</td>\n",
       "      <td>0.137855</td>\n",
       "      <td>CF34-8E</td>\n",
       "      <td>CF34-8E5</td>\n",
       "      <td>+1%W25 9th stg customer bleed (leakage)</td>\n",
       "      <td>49984</td>\n",
       "    </tr>\n",
       "    <tr>\n",
       "      <th>...</th>\n",
       "      <td>...</td>\n",
       "      <td>...</td>\n",
       "      <td>...</td>\n",
       "      <td>...</td>\n",
       "      <td>...</td>\n",
       "      <td>...</td>\n",
       "      <td>...</td>\n",
       "      <td>...</td>\n",
       "      <td>...</td>\n",
       "    </tr>\n",
       "    <tr>\n",
       "      <th>2472</th>\n",
       "      <td>9a124d266cba9143ef7685c7bc99c07b48aaa8f1822f02...</td>\n",
       "      <td>467295d533d5ee94a8265c44774fe307ad915b29096dda...</td>\n",
       "      <td>7.771362</td>\n",
       "      <td>1.444780</td>\n",
       "      <td>0.133863</td>\n",
       "      <td>CF34-8E</td>\n",
       "      <td>CF34-8E5</td>\n",
       "      <td>-1pt LPT efficiency</td>\n",
       "      <td>74898</td>\n",
       "    </tr>\n",
       "    <tr>\n",
       "      <th>2473</th>\n",
       "      <td>9a124d266cba9143ef7685c7bc99c07b48aaa8f1822f02...</td>\n",
       "      <td>467295d533d5ee94a8265c44774fe307ad915b29096dda...</td>\n",
       "      <td>7.822510</td>\n",
       "      <td>0.643202</td>\n",
       "      <td>0.134754</td>\n",
       "      <td>CF34-8E</td>\n",
       "      <td>CF34-8E5</td>\n",
       "      <td>-1pt LPT efficiency</td>\n",
       "      <td>1546</td>\n",
       "    </tr>\n",
       "    <tr>\n",
       "      <th>2474</th>\n",
       "      <td>9a124d266cba9143ef7685c7bc99c07b48aaa8f1822f02...</td>\n",
       "      <td>467295d533d5ee94a8265c44774fe307ad915b29096dda...</td>\n",
       "      <td>5.024658</td>\n",
       "      <td>0.546888</td>\n",
       "      <td>0.023792</td>\n",
       "      <td>CF34-8E</td>\n",
       "      <td>CF34-8E5</td>\n",
       "      <td>-1pt LPT efficiency</td>\n",
       "      <td>14313</td>\n",
       "    </tr>\n",
       "    <tr>\n",
       "      <th>2475</th>\n",
       "      <td>9a124d266cba9143ef7685c7bc99c07b48aaa8f1822f02...</td>\n",
       "      <td>467295d533d5ee94a8265c44774fe307ad915b29096dda...</td>\n",
       "      <td>7.539673</td>\n",
       "      <td>0.435916</td>\n",
       "      <td>0.105499</td>\n",
       "      <td>CF34-8E</td>\n",
       "      <td>CF34-8E5</td>\n",
       "      <td>-1pt LPT efficiency</td>\n",
       "      <td>22710</td>\n",
       "    </tr>\n",
       "    <tr>\n",
       "      <th>2476</th>\n",
       "      <td>9a124d266cba9143ef7685c7bc99c07b48aaa8f1822f02...</td>\n",
       "      <td>467295d533d5ee94a8265c44774fe307ad915b29096dda...</td>\n",
       "      <td>3.848755</td>\n",
       "      <td>0.711824</td>\n",
       "      <td>0.043484</td>\n",
       "      <td>CF34-8E</td>\n",
       "      <td>CF34-8E5</td>\n",
       "      <td>-1pt LPT efficiency</td>\n",
       "      <td>77503</td>\n",
       "    </tr>\n",
       "  </tbody>\n",
       "</table>\n",
       "<p>2477 rows × 9 columns</p>\n",
       "</div>"
      ],
      "text/plain": [
       "                                              engine_id  \\\n",
       "0     6dc714d821a73d97c06143281b622c4e45c791985425c8...   \n",
       "1     6dc714d821a73d97c06143281b622c4e45c791985425c8...   \n",
       "2     6dc714d821a73d97c06143281b622c4e45c791985425c8...   \n",
       "3     17347326abdfbcd8acc523a9069dba5f770f1f65ca9b21...   \n",
       "4     17347326abdfbcd8acc523a9069dba5f770f1f65ca9b21...   \n",
       "...                                                 ...   \n",
       "2472  9a124d266cba9143ef7685c7bc99c07b48aaa8f1822f02...   \n",
       "2473  9a124d266cba9143ef7685c7bc99c07b48aaa8f1822f02...   \n",
       "2474  9a124d266cba9143ef7685c7bc99c07b48aaa8f1822f02...   \n",
       "2475  9a124d266cba9143ef7685c7bc99c07b48aaa8f1822f02...   \n",
       "2476  9a124d266cba9143ef7685c7bc99c07b48aaa8f1822f02...   \n",
       "\n",
       "                                            aircraft_id      DEGT      GWFM  \\\n",
       "0     31baf613cc66c483d5576812d060e54d64275325be437f...  4.137451  1.009322   \n",
       "1     31baf613cc66c483d5576812d060e54d64275325be437f...  4.137451  1.009322   \n",
       "2     31baf613cc66c483d5576812d060e54d64275325be437f...  4.137451  1.009322   \n",
       "3     ac5a9ee6985da1ed0780c817d7ac0cc5ec571d9c55f56c...  3.963135  0.620057   \n",
       "4     ac5a9ee6985da1ed0780c817d7ac0cc5ec571d9c55f56c...  4.475220  0.797171   \n",
       "...                                                 ...       ...       ...   \n",
       "2472  467295d533d5ee94a8265c44774fe307ad915b29096dda...  7.771362  1.444780   \n",
       "2473  467295d533d5ee94a8265c44774fe307ad915b29096dda...  7.822510  0.643202   \n",
       "2474  467295d533d5ee94a8265c44774fe307ad915b29096dda...  5.024658  0.546888   \n",
       "2475  467295d533d5ee94a8265c44774fe307ad915b29096dda...  7.539673  0.435916   \n",
       "2476  467295d533d5ee94a8265c44774fe307ad915b29096dda...  3.848755  0.711824   \n",
       "\n",
       "        GPCN25 engine_family engine_type  \\\n",
       "0     0.170869       CF34-8E    CF34-8E5   \n",
       "1     0.170869       CF34-8E    CF34-8E5   \n",
       "2     0.170869       CF34-8E    CF34-8E5   \n",
       "3     0.042544       CF34-8E    CF34-8E5   \n",
       "4     0.137855       CF34-8E    CF34-8E5   \n",
       "...        ...           ...         ...   \n",
       "2472  0.133863       CF34-8E    CF34-8E5   \n",
       "2473  0.134754       CF34-8E    CF34-8E5   \n",
       "2474  0.023792       CF34-8E    CF34-8E5   \n",
       "2475  0.105499       CF34-8E    CF34-8E5   \n",
       "2476  0.043484       CF34-8E    CF34-8E5   \n",
       "\n",
       "                                 problem_name  main_id  \n",
       "0     +1%W25 9th stg customer bleed (leakage)    48365  \n",
       "1                         -1pt FAN efficiency    48365  \n",
       "2                         -1pt LPT efficiency    48365  \n",
       "3                                 VBV open 10    20026  \n",
       "4     +1%W25 9th stg customer bleed (leakage)    49984  \n",
       "...                                       ...      ...  \n",
       "2472                      -1pt LPT efficiency    74898  \n",
       "2473                      -1pt LPT efficiency     1546  \n",
       "2474                      -1pt LPT efficiency    14313  \n",
       "2475                      -1pt LPT efficiency    22710  \n",
       "2476                      -1pt LPT efficiency    77503  \n",
       "\n",
       "[2477 rows x 9 columns]"
      ]
     },
     "execution_count": 9,
     "metadata": {},
     "output_type": "execute_result"
    }
   ],
   "source": [
    "problem"
   ]
  },
  {
   "cell_type": "markdown",
   "id": "7cc4d624-cd49-49bd-867b-53e78d754dc3",
   "metadata": {},
   "source": [
    "### Распределение проблем"
   ]
  },
  {
   "cell_type": "code",
   "execution_count": 11,
   "id": "629f3cae-f53c-4d0c-97fe-e679f2b67014",
   "metadata": {
    "execution": {
     "iopub.execute_input": "2023-06-13T08:45:13.903001Z",
     "iopub.status.busy": "2023-06-13T08:45:13.902768Z",
     "iopub.status.idle": "2023-06-13T08:45:14.034562Z",
     "shell.execute_reply": "2023-06-13T08:45:14.033454Z",
     "shell.execute_reply.started": "2023-06-13T08:45:13.902985Z"
    },
    "tags": []
   },
   "outputs": [
    {
     "data": {
      "image/png": "[encoded data removed]",
      "text/plain": [
       "<Figure size 640x480 with 1 Axes>"
      ]
     },
     "metadata": {},
     "output_type": "display_data"
    }
   ],
   "source": [
    "sns.histplot(problem[\"engine_family\"])\n",
    "plt.show()"
   ]
  },
  {
   "cell_type": "code",
   "execution_count": 12,
   "id": "af98313a-bff6-4b9a-8756-78411b18f253",
   "metadata": {
    "execution": {
     "iopub.execute_input": "2023-06-13T08:45:16.566992Z",
     "iopub.status.busy": "2023-06-13T08:45:16.566756Z",
     "iopub.status.idle": "2023-06-13T08:45:16.685217Z",
     "shell.execute_reply": "2023-06-13T08:45:16.684428Z",
     "shell.execute_reply.started": "2023-06-13T08:45:16.566976Z"
    },
    "tags": []
   },
   "outputs": [
    {
     "data": {
      "image/png": "[encoded data removed]",
      "text/plain": [
       "<Figure size 640x480 with 1 Axes>"
      ]
     },
     "metadata": {},
     "output_type": "display_data"
    }
   ],
   "source": [
    "sns.histplot(problem[\"engine_type\"])\n",
    "plt.show()"
   ]
  }
 ],
 "metadata": {
  "kernelspec": {
   "display_name": "Python [conda env:dpoenv]",
   "language": "python",
   "name": "conda-env-dpoenv-py"
  },
  "language_info": {
   "codemirror_mode": {
    "name": "ipython",
    "version": 3
   },
   "file_extension": ".py",
   "mimetype": "text/x-python",
   "name": "python",
   "nbconvert_exporter": "python",
   "pygments_lexer": "ipython3",
   "version": "3.11.3"
  }
 },
 "nbformat": 4,
 "nbformat_minor": 5
}
